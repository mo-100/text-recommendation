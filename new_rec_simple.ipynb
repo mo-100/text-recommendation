{
 "cells": [
  {
   "cell_type": "markdown",
   "id": "3aaadc4d",
   "metadata": {},
   "source": [
    "Import"
   ]
  },
  {
   "cell_type": "code",
   "execution_count": 1,
   "id": "cf8b9444",
   "metadata": {},
   "outputs": [
    {
     "name": "stderr",
     "output_type": "stream",
     "text": [
      "/Users/mohammedalageel/projects/recommendation/.venv/lib/python3.11/site-packages/tqdm/auto.py:21: TqdmWarning: IProgress not found. Please update jupyter and ipywidgets. See https://ipywidgets.readthedocs.io/en/stable/user_install.html\n",
      "  from .autonotebook import tqdm as notebook_tqdm\n"
     ]
    }
   ],
   "source": [
    "import json\n",
    "import random\n",
    "from collections import defaultdict\n",
    "\n",
    "\n",
    "import numpy as np\n",
    "import hnswlib\n",
    "from sklearn.decomposition import PCA\n",
    "from sentence_transformers import SentenceTransformer"
   ]
  },
  {
   "cell_type": "markdown",
   "id": "d31a3cee",
   "metadata": {},
   "source": [
    "Functions"
   ]
  },
  {
   "cell_type": "code",
   "execution_count": 2,
   "id": "ac1223ce",
   "metadata": {},
   "outputs": [],
   "source": [
    "def load_dataset(file_path: str):\n",
    "    dataset = []\n",
    "    with open(file_path) as f:\n",
    "        for line in f.readlines():\n",
    "            dataset.append(json.loads(line))\n",
    "\n",
    "    len_before = len(dataset)\n",
    "    dataset = [d for d in dataset if len(d['short_description']) > 40]\n",
    "    num = len_before - len(dataset)\n",
    "    print(f'removed {num} short samples')\n",
    "    random.Random(42).shuffle(dataset)\n",
    "    texts = [i['short_description'] for i in dataset]\n",
    "    return texts\n",
    "\n",
    "\n",
    "def make_index(embeddings: np.ndarray, ef=50):\n",
    "    index = hnswlib.Index(space='cosine', dim=embeddings.shape[1])\n",
    "    index.init_index(max_elements=len(embeddings), ef_construction=200, M=16)\n",
    "    index.add_items(embeddings, np.arange(len(embeddings)))\n",
    "    index.set_ef(ef)  # ef should always be > k\n",
    "    return index\n",
    "\n",
    "\n",
    "def query_index(index: hnswlib.Index, query_embeddings: np.ndarray, k=5) -> tuple[list[int], list[float]]:\n",
    "    indices, distances = index.knn_query(query_embeddings, k)\n",
    "    # flatten\n",
    "    indices, distances = indices.flatten(), distances.flatten()\n",
    "\n",
    "    # get max similarity for each item\n",
    "    scores: defaultdict[int, float] = defaultdict(float)\n",
    "    for i, d in zip(indices, distances):\n",
    "        sim = 1 - d\n",
    "        idx = int(i)\n",
    "        scores[idx] = max(scores[idx], sim)\n",
    "\n",
    "    # rerank\n",
    "    scores_ranked = sorted(scores.items(), key=lambda x: x[1], reverse=True)\n",
    "    indices, distances = [i for i, _ in scores_ranked], [d for _, d in scores_ranked]\n",
    "    return  indices, distances\n",
    "\n",
    "def recommend(index: hnswlib.Index, history_embeddings: np.ndarray, history: list[int], sample_weight=10.0, k=20) -> tuple[list[int], list[float]]:\n",
    "    assert sample_weight >= 1, 'sample_weight should be >= 1'\n",
    "\n",
    "    indices, distances = query_index(index, history_embeddings, int(sample_weight * k))\n",
    "    # indices, distances = query_index(index, history_embeddings, k)\n",
    "    print(f'Found {len(indices)} recommendations for {len(history_embeddings)} history items')\n",
    "\n",
    "    if history:\n",
    "        # remove skipped indices\n",
    "        scores = [(i, v) for i, v in zip(indices, distances) if i not in history]\n",
    "        indices, distances = [i for i, _ in scores], [d for _, d in scores]\n",
    "    if sample_weight > 1:\n",
    "        # random subsample\n",
    "        sampled = list(zip(indices, distances))[:int(k * sample_weight)]\n",
    "        sampled = random.sample(sampled, k)\n",
    "        sampled = sorted(sampled, key=lambda x: x[1], reverse=True)\n",
    "        indices, distances = [i for i, _ in sampled], [d for _, d in sampled]\n",
    "    else:\n",
    "        # take top k\n",
    "        indices, distances = indices[:k], distances[:k]\n",
    "        \n",
    "    return indices, distances"
   ]
  },
  {
   "cell_type": "markdown",
   "id": "d9592ac2",
   "metadata": {},
   "source": [
    "Load Dataset"
   ]
  },
  {
   "cell_type": "code",
   "execution_count": 3,
   "id": "a24ce8ab",
   "metadata": {},
   "outputs": [
    {
     "name": "stdout",
     "output_type": "stream",
     "text": [
      "removed 37721 short samples\n"
     ]
    },
    {
     "data": {
      "text/plain": [
       "171806"
      ]
     },
     "execution_count": 3,
     "metadata": {},
     "output_type": "execute_result"
    }
   ],
   "source": [
    "texts = load_dataset('news.json')\n",
    "len(texts)"
   ]
  },
  {
   "cell_type": "markdown",
   "id": "3877f5ac",
   "metadata": {},
   "source": [
    "Load Models"
   ]
  },
  {
   "cell_type": "code",
   "execution_count": 4,
   "id": "1d619206",
   "metadata": {},
   "outputs": [],
   "source": [
    "embedder = SentenceTransformer('all-MiniLM-L6-v2')\n",
    "pca_model = PCA(n_components=50, random_state=42)"
   ]
  },
  {
   "cell_type": "markdown",
   "id": "7dffd750",
   "metadata": {},
   "source": [
    "Train Models"
   ]
  },
  {
   "cell_type": "code",
   "execution_count": 5,
   "id": "597f9bc6",
   "metadata": {},
   "outputs": [
    {
     "name": "stderr",
     "output_type": "stream",
     "text": [
      "Batches: 100%|██████████| 5369/5369 [01:45<00:00, 50.67it/s]\n"
     ]
    }
   ],
   "source": [
    "embeddings: np.ndarray = embedder.encode(texts, show_progress_bar=True)\n",
    "reduced_embeddings: np.ndarray = pca_model.fit_transform(embeddings)"
   ]
  },
  {
   "cell_type": "markdown",
   "id": "6c9002e1",
   "metadata": {},
   "source": [
    "Indexing"
   ]
  },
  {
   "cell_type": "code",
   "execution_count": 6,
   "id": "7027a568",
   "metadata": {},
   "outputs": [],
   "source": [
    "index = make_index(reduced_embeddings)"
   ]
  },
  {
   "cell_type": "markdown",
   "id": "1dd6579c",
   "metadata": {},
   "source": [
    "Testing"
   ]
  },
  {
   "cell_type": "code",
   "execution_count": 7,
   "id": "930720b9",
   "metadata": {},
   "outputs": [
    {
     "data": {
      "text/plain": [
       "[\"The USGA should relocate the event because of Trump's comments about women, the senators say.\",\n",
       " \"But like belief in Santa Claus and the Tooth Fairy, this magical sleep potion relies on the power of my son's imagination\",\n",
       " '\"Do you realize I\\'m only 25? This embryo and I could have been best friends,\" the mother says.',\n",
       " 'Having a policy and enforcing the policy are two totally different and separate things. After all, law without enforcement is no law at all.',\n",
       " 'The ability to be assertive and say \"no\" is a communication skill we all learn at a very young age.  If you\\'re a parent, you know better than anyone that once this word enters a child\\'s vocabulary it\\'s used very often.  However, as an adult, \"no\" is often much more difficult to say.']"
      ]
     },
     "execution_count": 7,
     "metadata": {},
     "output_type": "execute_result"
    }
   ],
   "source": [
    "history = [432, 123, 456, 789, 1011]\n",
    "history_texts = [texts[i] for i in history]\n",
    "history_texts"
   ]
  },
  {
   "cell_type": "markdown",
   "id": "d5c1f9b1",
   "metadata": {},
   "source": [
    "More random"
   ]
  },
  {
   "cell_type": "code",
   "execution_count": 8,
   "id": "a440f2b0",
   "metadata": {},
   "outputs": [
    {
     "name": "stdout",
     "output_type": "stream",
     "text": [
      "Found 998 recommendations for 5 history items\n",
      "1. (similarity: 0.8597): \"It's been such a blessing to have a child. I never thought I would have one.\"\n",
      "2. (similarity: 0.7617): “I was in that relationship a long time. But now I’m, like: It’s the best decision,\" she said. \"We raise our kids together\n",
      "3. (similarity: 0.7539): Because you don't have to live in the U.S. legally to be protected by the law.\n",
      "4. (similarity: 0.7535): \"You're my mother, of course you think I'm great. I need to hear it from someone else,\" my daughter told me.\n",
      "5. (similarity: 0.7516): \"If suddenly it’s Mother’s Day and you have two dads, you’re jacked.\"\n",
      "6. (similarity: 0.7285): \"Your son looks just like you and your daughter looks like she could be from a different family? Is she the milkman's baby?\"\n",
      "7. (similarity: 0.7263): “Are you the oldest mom there?” a friend asked me as we walked to the elementary school to pick up our sons. At least, I\n",
      "8. (similarity: 0.7222): \"You’re not going to be the perfect parent, you’re just going to be the best parent.”\n",
      "9. (similarity: 0.7100): \"A genius? Yes. But also a daughter, a mother and a wife.\"\n",
      "10. (similarity: 0.7083): \"I have been teaching her love all of her life, and all that I ask is that you continue the lesson,\" Parent, who describes\n",
      "11. (similarity: 0.7037): \"What do I tell my daughter? Do I tell her that her grandpa’s worth more than her grandma?\"\n",
      "12. (similarity: 0.6961): \"I never felt like I saw a 25-year-old, 28-year-old version of me who was messy, who was trying to figure it out.\"\n",
      "13. (similarity: 0.6929): \"It is a necessity to raise our children with our roots,\" she said.\n",
      "14. (similarity: 0.6903): \"To all the parents in the room -- really, this is important for everyone -- any child who feels they have been truly loved, even by just one person, will develop tremendous confidence.\"\n",
      "15. (similarity: 0.6817): “They could see the baby, the 8-month-old, looking up at them.”\n",
      "16. (similarity: 0.6749): \"A lot of my memories are of the parents who I had to tell or the spouses I had to tell, who weren't going to be reunited that day.\"\n",
      "17. (similarity: 0.6743): \"She was doing it for her kids, and she was doing it for her family, so we can be together.\"\n",
      "18. (similarity: 0.6695): The so-called \"provocation rule\" can't be used against police officers in excessive force cases.\n",
      "19. (similarity: 0.6673): \"’I've discovered that as I’ve gotten older, you can invest in happiness, you can make a choice.\"\n",
      "20. (similarity: 0.6665): But the Interior Department says it will scrap the regulation anyway.\n"
     ]
    }
   ],
   "source": [
    "history_embeddings = pca_model.transform(embedder.encode(history_texts))\n",
    "\n",
    "indices, distances = recommend(index, history_embeddings, history, sample_weight=10, k=20)\n",
    "\n",
    "for i, (idx, distance) in enumerate(zip(indices, distances)):\n",
    "    print(f'{i+1}. (similarity: {distance:.4f}): {texts[idx]}')"
   ]
  },
  {
   "cell_type": "markdown",
   "id": "ceb468d9",
   "metadata": {},
   "source": [
    "Less random"
   ]
  },
  {
   "cell_type": "code",
   "execution_count": 9,
   "id": "5a83593f",
   "metadata": {},
   "outputs": [
    {
     "name": "stdout",
     "output_type": "stream",
     "text": [
      "Found 120 recommendations for 5 history items\n",
      "1. (similarity: 0.8597): \"It's been such a blessing to have a child. I never thought I would have one.\"\n",
      "2. (similarity: 0.8521): \"Mom, would you just concentrate on having the baby!\" her teen daughter said.\n",
      "3. (similarity: 0.8334): Almost every state in the country allows citizens to act as police — with sometimes deadly consequences. Some want these laws abolished.\n",
      "4. (similarity: 0.8115): \"I have three boys of my own, all grown.  And when I dream of them, I dream of them at this age. Enjoy these moments.\" We smiled at each other, two mothers sharing a moment of understanding.\n",
      "5. (similarity: 0.8055): \"I have a 12-year-old and a 6-year-old now ... after being single for six years,\" she said. \"We all live together and everything\n",
      "6. (similarity: 0.7991): “I don’t know if I would be a mom today if it weren’t for her.\"\n",
      "7. (similarity: 0.7979): \"You think you're [insert anything here]? Try having kids!\"\n",
      "8. (similarity: 0.7972): \"I don't know everything about IVF, but I love it when people are happy.\"\n",
      "9. (similarity: 0.7946): My 13-year-old son refuses to take 'no' for an answer. No matter how much I explain why I won't raise his allowance or let him watch an inappropriate movie, he follows me around, demanding better reasons. It makes me so angry! Why can't 'no' mean 'no'?\"\n",
      "10. (similarity: 0.7904): \"Every day I’m reminded that I grew my baby for six months and she died.”\n",
      "11. (similarity: 0.7848): \"I thought I would have up to five kids ... But it would be crazy to fall pregnant now.\"\n",
      "12. (similarity: 0.7841): \"When I became a parent, I felt like I was truly living.\"\n",
      "13. (similarity: 0.7834): Strong gun laws are not equivalent to taking guns away from citizens. To the contrary, they consist of transparent rules and procedures designed to manage the possession, storage and carrying of firearms in order to limit access to legitimate users alone.\n",
      "14. (similarity: 0.7746): “We never really thought about having our own kids because we never thought it was possible.\"\n",
      "15. (similarity: 0.7628): \"Does anyone else out there have an extremely shy child?\" asks Circle of Moms member Briana. She worries that her six-year\n",
      "16. (similarity: 0.7611): \"I hope my daughters grow up to have amazing sex. I really do.\"\n",
      "17. (similarity: 0.7595): \"I have many, many friends who are women who understand Planned Parenthood better than you or I will ever understand it.\"\n",
      "18. (similarity: 0.7592): If you know a mother of twins, chances are, at some point, she has uttered the following words: \"You think having one is\n",
      "19. (similarity: 0.7575): When you just need some quiet — but you don't want to make your chatty kid feel bad.\n",
      "20. (similarity: 0.7574): \"You only get to be a child once, so don't spend it worrying too much about the future.\"\n"
     ]
    }
   ],
   "source": [
    "history_embeddings = pca_model.transform(embedder.encode(history_texts))\n",
    "indices, distances = recommend(index, history_embeddings, history, sample_weight=1.2, k=20)\n",
    "\n",
    "for i, (idx, distance) in enumerate(zip(indices, distances)):\n",
    "    print(f'{i+1}. (similarity: {distance:.4f}): {texts[idx]}')"
   ]
  },
  {
   "cell_type": "markdown",
   "id": "08cfcc96",
   "metadata": {},
   "source": [
    "No randomness"
   ]
  },
  {
   "cell_type": "code",
   "execution_count": 10,
   "id": "3caf3dcb",
   "metadata": {},
   "outputs": [
    {
     "name": "stdout",
     "output_type": "stream",
     "text": [
      "Found 58 recommendations for 3 history items\n",
      "1. (similarity: 0.8418): A sport is \"a contest or a game in which people do certain physical activities according to a specific set of rules and compete against each other.\" This is the definition that has been engraved as the meaning behind the word \"sport\" for years.  After June 1, that definition changed.\n",
      "2. (similarity: 0.7553): Football, basketball, hockey, martial arts, European football... all of these athletic events offer plenty of excitement\n",
      "3. (similarity: 0.7516): Whether we want to admit it or not, youth sports are really about education. Our organization says that sports are the outdoor classroom whereby young people are learning a host of life lesson and they are not always good lessons.\n",
      "4. (similarity: 0.7362): An elementary schooler got to participate in the biggest sports event in America through Fuel Up to Play 60, a program that uses the star-power of NFL players to get kids excited about exercise.\n",
      "5. (similarity: 0.7322): For more from our \"Like An Olympian\" series, click here. It's interesting that types of sports are grouped together and given\n",
      "6. (similarity: 0.7230): The sport \"is a passion that we all share.\"\n",
      "7. (similarity: 0.7197): NEW YORK, Feb 17 (Reuters) - For everyday athletes hoping to glean more than vague inspiration from watching the elite compete\n",
      "8. (similarity: 0.7177): Here's how some of the world's top athletes gain their competitive advantage.\n",
      "9. (similarity: 0.7168): Youth sports are, and should always be, a valuable experience, filled with challenges, competition and fun. But too many kids are stuck on the sidelines because of an injury that is preventable. In 2013, 1.24 million kids sustained a sports injury severe enough to go to the\n",
      "10. (similarity: 0.7153): From its humble beginnings in 1913 as a race intended to boost the circulation of the sports-focused newspaper Sportwereld\n",
      "11. (similarity: 0.7137): For the most part, sport is about entertainment. Tennis matches, especially at night, are beginning to look and feel more and more like rock concerts. Right now, win or lose, Nick is adding to that experience in spades.\n",
      "12. (similarity: 0.7096): When you open a running journal it should remind you of what you love about the sport. Your journal should have amusing doodles in the margins and dog-eared pages that recount your greatest efforts or darkest days of injury.\n",
      "13. (similarity: 0.7091): Video games. A time-honored way to put off homework, spend time with friends, and rewire our brains.\n",
      "14. (similarity: 0.7088): Today's best sports bars reimagine what the collective sports experience really is.\n",
      "15. (similarity: 0.7044): Over the past few weeks, college sport has once again taken over the lead in ink and air time; not actually games, of course, but stories that illustrate the corruption of higher education in America by the presence of intercollegiate athletics on campus, or more precisely football on campus.\n",
      "16. (similarity: 0.7031): World-class athletes train in these open spaces.\n",
      "17. (similarity: 0.7025): We asked people from around the world to show us what their community defines as \"play.\"  No athletes allowed.\n",
      "18. (similarity: 0.7007): In the world of sports, GIFs have found a home. Given the attention span of people today, the Graphics Interchange Format\n",
      "19. (similarity: 0.6980): At some point during the thrill of watching the Olympics, the question emerges: How do they do it? The answer is supposed to inform the rest of us on the \"secrets\" to living, well, like an Olympian -- to living with superhuman health. Is there such a formula we can glean from our prized athletes?\n",
      "20. (similarity: 0.6927): Sports create a relationship between the fan and the players. This relationship resembles that of a family. Sports fans, like other people, separate themselves out into similar groups with common values, religions, aesthetics, ethnicities and so forth.\n"
     ]
    }
   ],
   "source": [
    "history_embeddings = pca_model.transform(embedder.encode(['gaming', 'sports', 'ai']))\n",
    "indices, distances = recommend(index, history_embeddings, [], sample_weight=1, k=20)\n",
    "\n",
    "for i, (idx, distance) in enumerate(zip(indices, distances)):\n",
    "    print(f'{i+1}. (similarity: {distance:.4f}): {texts[idx]}')\n"
   ]
  },
  {
   "cell_type": "code",
   "execution_count": null,
   "id": "92698bc1",
   "metadata": {},
   "outputs": [],
   "source": []
  }
 ],
 "metadata": {
  "kernelspec": {
   "display_name": ".venv",
   "language": "python",
   "name": "python3"
  },
  "language_info": {
   "codemirror_mode": {
    "name": "ipython",
    "version": 3
   },
   "file_extension": ".py",
   "mimetype": "text/x-python",
   "name": "python",
   "nbconvert_exporter": "python",
   "pygments_lexer": "ipython3",
   "version": "3.11.13"
  }
 },
 "nbformat": 4,
 "nbformat_minor": 5
}
