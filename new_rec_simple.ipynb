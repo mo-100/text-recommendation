{
 "cells": [
  {
   "cell_type": "markdown",
   "id": "3aaadc4d",
   "metadata": {},
   "source": [
    "Import"
   ]
  },
  {
   "cell_type": "code",
   "execution_count": 1,
   "id": "cf8b9444",
   "metadata": {},
   "outputs": [
    {
     "name": "stderr",
     "output_type": "stream",
     "text": [
      "/Users/mohammedalageel/projects/text-recommendation/.venv/lib/python3.11/site-packages/tqdm/auto.py:21: TqdmWarning: IProgress not found. Please update jupyter and ipywidgets. See https://ipywidgets.readthedocs.io/en/stable/user_install.html\n",
      "  from .autonotebook import tqdm as notebook_tqdm\n"
     ]
    }
   ],
   "source": [
    "import random\n",
    "from collections import defaultdict\n",
    "from typing import Literal\n",
    "\n",
    "\n",
    "import numpy as np\n",
    "import hnswlib\n",
    "from sklearn.decomposition import PCA\n",
    "from scipy.spatial.distance import cdist\n",
    "from sentence_transformers import SentenceTransformer\n",
    "from umap import UMAP\n",
    "from datasets import load_dataset"
   ]
  },
  {
   "cell_type": "markdown",
   "id": "d31a3cee",
   "metadata": {},
   "source": [
    "Functions"
   ]
  },
  {
   "cell_type": "code",
   "execution_count": null,
   "id": "ac1223ce",
   "metadata": {},
   "outputs": [],
   "source": [
    "def make_index(embeddings: np.ndarray, space: Literal[\"l2\", \"ip\", \"cosine\"], ef=50):\n",
    "    index = hnswlib.Index(space=space, dim=embeddings.shape[1])\n",
    "    index.init_index(max_elements=len(embeddings), ef_construction=200, M=16)\n",
    "    index.add_items(embeddings, np.arange(len(embeddings)))\n",
    "    index.set_ef(ef)  # ef should always be > k\n",
    "    return index\n",
    "\n",
    "\n",
    "def query_index(index: hnswlib.Index, query_embeddings: np.ndarray, k=5) -> tuple[list[int], list[float]]:\n",
    "    indices, distances = index.knn_query(query_embeddings, k)\n",
    "    # flatten\n",
    "    indices, distances = indices.flatten(), distances.flatten()\n",
    "\n",
    "    # get max similarity for each item\n",
    "    scores: defaultdict[int, float] = defaultdict(float)\n",
    "    for i, d in zip(indices, distances):\n",
    "        sim = 1 - d\n",
    "        idx = int(i)\n",
    "        scores[idx] = max(scores[idx], sim)\n",
    "\n",
    "    # rerank\n",
    "    scores_ranked = sorted(scores.items(), key=lambda x: x[1], reverse=True)\n",
    "    indices, distances = [i for i, _ in scores_ranked], [d for _, d in scores_ranked]\n",
    "    return indices, distances\n",
    "\n",
    "\n",
    "class Recommender:\n",
    "    def __init__(\n",
    "        self,\n",
    "        dim_reduction_model: PCA,\n",
    "        index: hnswlib.Index,\n",
    "        embedder: SentenceTransformer,\n",
    "        reduced_embeddings: np.ndarray,\n",
    "        texts: list[str],\n",
    "    ):\n",
    "        self.dim_reduction_model = dim_reduction_model\n",
    "        self.index = index\n",
    "        self.embedder = embedder\n",
    "        self.reduced_embeddings = reduced_embeddings\n",
    "        self.texts = texts\n",
    "\n",
    "    def recommend(self, history_embeddings: np.ndarray, history: list[int], sample_weight=10.0, k=20) -> tuple[list[int], list[float]]:\n",
    "        assert sample_weight >= 1, \"sample_weight should be >= 1\"\n",
    "\n",
    "        indices, distances = query_index(self.index, history_embeddings, int(sample_weight * k))\n",
    "        # indices, distances = query_index(index, history_embeddings, k)\n",
    "        print(f\"Found {len(indices)} recommendations for {len(history_embeddings)} history items\")\n",
    "\n",
    "        if history:\n",
    "            # remove skipped indices\n",
    "            scores = [(i, v) for i, v in zip(indices, distances) if i not in history]\n",
    "            indices, distances = [i for i, _ in scores], [d for _, d in scores]\n",
    "        if sample_weight > 1:\n",
    "            # random subsample\n",
    "            sampled = list(zip(indices, distances))[: int(k * sample_weight)]\n",
    "            sampled = random.sample(sampled, k)\n",
    "            sampled = sorted(sampled, key=lambda x: x[1], reverse=True)\n",
    "            indices, distances = [i for i, _ in sampled], [d for _, d in sampled]\n",
    "        else:\n",
    "            # take top k\n",
    "            indices, distances = indices[:k], distances[:k]\n",
    "\n",
    "        return indices, distances\n",
    "\n",
    "    def show_rec(self, history_texts: list[str], history: list[int], sample_weight=10.0, k=20):\n",
    "        history_embeddings = self.dim_reduction_model.transform(self.embedder.encode(history_texts))\n",
    "        indices, distances = self.recommend(history_embeddings, history, sample_weight, k)\n",
    "\n",
    "        for i, (idx, distance) in enumerate(zip(indices, distances)):\n",
    "            # get closest text match from history\n",
    "            cos_sim = cdist([self.reduced_embeddings[idx]], history_embeddings, metric=\"cosine\")\n",
    "            cos_sim = np.array(cos_sim).flatten()\n",
    "            cos_sim = 1 - cos_sim\n",
    "            # get highest similarity index\n",
    "            history_match_idx = np.argmax(cos_sim)\n",
    "            print(f\"{i + 1}. (similarity: {distance:.4f}) (to {history_match_idx}): {self.texts[idx]}\")"
   ]
  },
  {
   "cell_type": "markdown",
   "id": "d9592ac2",
   "metadata": {},
   "source": [
    "Load Dataset"
   ]
  },
  {
   "cell_type": "code",
   "execution_count": null,
   "id": "4b6792db",
   "metadata": {},
   "outputs": [
    {
     "data": {
      "text/plain": [
       "127600"
      ]
     },
     "execution_count": 3,
     "metadata": {},
     "output_type": "execute_result"
    }
   ],
   "source": [
    "ds = load_dataset(\"fancyzhx/ag_news\", split=\"all\")\n",
    "texts: list[str] = [ds[i][\"text\"] for i in range(len(ds))]\n",
    "len(texts)"
   ]
  },
  {
   "cell_type": "markdown",
   "id": "3877f5ac",
   "metadata": {},
   "source": [
    "Load Models and train them"
   ]
  },
  {
   "cell_type": "code",
   "execution_count": null,
   "id": "597f9bc6",
   "metadata": {},
   "outputs": [
    {
     "name": "stderr",
     "output_type": "stream",
     "text": [
      "Batches:   0%|          | 0/3988 [00:00<?, ?it/s]/Users/mohammedalageel/projects/text-recommendation/.venv/lib/python3.11/site-packages/torch/nn/modules/module.py:1762: FutureWarning: `encoder_attention_mask` is deprecated and will be removed in version 4.55.0 for `BertSdpaSelfAttention.forward`.\n",
      "  return forward_call(*args, **kwargs)\n",
      "Batches: 100%|██████████| 3988/3988 [02:10<00:00, 30.50it/s]\n"
     ]
    }
   ],
   "source": [
    "embedder = SentenceTransformer(\"all-MiniLM-L6-v2\")\n",
    "embeddings: np.ndarray = embedder.encode(texts, show_progress_bar=True)"
   ]
  },
  {
   "cell_type": "code",
   "execution_count": 5,
   "id": "9abd8f4d",
   "metadata": {},
   "outputs": [
    {
     "name": "stderr",
     "output_type": "stream",
     "text": [
      "/Users/mohammedalageel/projects/text-recommendation/.venv/lib/python3.11/site-packages/umap/umap_.py:1952: UserWarning: n_jobs value 1 overridden to 1 by setting random_state. Use no seed for parallelism.\n",
      "  warn(\n"
     ]
    }
   ],
   "source": [
    "umap_model = UMAP(n_components=50, random_state=42, n_neighbors=15, min_dist=0.1, metric=\"euclidean\")\n",
    "umap_embeddings: np.ndarray = umap_model.fit_transform(embeddings)"
   ]
  },
  {
   "cell_type": "code",
   "execution_count": 6,
   "id": "44732606",
   "metadata": {},
   "outputs": [],
   "source": [
    "pca_model = PCA(n_components=50, random_state=42)\n",
    "pca_embeddings: np.ndarray = pca_model.fit_transform(embeddings)"
   ]
  },
  {
   "cell_type": "markdown",
   "id": "6c9002e1",
   "metadata": {},
   "source": [
    "Indexing"
   ]
  },
  {
   "cell_type": "code",
   "execution_count": 7,
   "id": "7027a568",
   "metadata": {},
   "outputs": [],
   "source": [
    "umap_index = make_index(umap_embeddings, space=\"l2\", ef=200)\n",
    "pca_index = make_index(pca_embeddings, space=\"cosine\", ef=200)"
   ]
  },
  {
   "cell_type": "code",
   "execution_count": 8,
   "id": "b34b3be4",
   "metadata": {},
   "outputs": [],
   "source": [
    "umap_recommender = Recommender(\n",
    "    umap_model,\n",
    "    umap_index,\n",
    "    embedder,\n",
    "    umap_embeddings,\n",
    "    texts,\n",
    ")\n",
    "pca_recommender = Recommender(\n",
    "    pca_model,\n",
    "    pca_index,\n",
    "    embedder,\n",
    "    pca_embeddings,\n",
    "    texts,\n",
    ")\n",
    "# pca should be more general and umap more precise"
   ]
  },
  {
   "cell_type": "markdown",
   "id": "1dd6579c",
   "metadata": {},
   "source": [
    "Testing"
   ]
  },
  {
   "cell_type": "code",
   "execution_count": 11,
   "id": "930720b9",
   "metadata": {},
   "outputs": [
    {
     "name": "stdout",
     "output_type": "stream",
     "text": [
      "0: Frances Destroys Sea Turtle Nests (AP) AP - Hurricane Frances destroyed thousands of sea turtle nests as the storm tore through their most important beaches in the middle of the nesting season, biologists said.\n",
      "1: Kelly: Perennial Winner Southwest In 14.1 Traffic Jump &lt;b&gt;...&lt;/b&gt; Southwest Airlines (nyse: LUV - news - people ) on Friday said its traffic jumped 14.1 in November. The discount carrier carried 9.6 more passengers during the month than in the year-ago period.\n",
      "2: TD, Banknorth in Talks on Possible Deal  TORONTO (Reuters) - Canada's Toronto Dominion Bank &lt;A HREF=\"http://www.investor.reuters.com/FullQuote.aspx?ticker=TD.TO target=/stocks/quickinfo/fullquote\"&gt;TD.TO&lt;/A&gt;  said on Wednesday that it is in talks with U.S.-based Banknorth  Group &lt;A HREF=\"http://www.investor.reuters.com/FullQuote.aspx?ticker=BNK.N target=/stocks/quickinfo/fullquote\"&gt;BNK.N&lt;/A&gt; about a possible deal.\n",
      "3: Talks look for new climate effort Climate experts and politicians  will discuss policies they believe may be needed beyond the Kyoto Protocol.\n",
      "4: Prospect of North Korean Missile Launch  #39;Alarming #39; to Seoul South Korean Foreign Minister Ban Ki Moon said Thursday that intelligence indicating a possible launch of a North Korean ballistic missile is  quot;very much alarming \n"
     ]
    }
   ],
   "source": [
    "history = random.sample(range(len(texts)), k=5)\n",
    "history_texts = [texts[i] for i in history]\n",
    "for i, text in enumerate(history_texts):\n",
    "    print(f\"{i}: {text}\")"
   ]
  },
  {
   "cell_type": "markdown",
   "id": "d5c1f9b1",
   "metadata": {},
   "source": [
    "More random"
   ]
  },
  {
   "cell_type": "code",
   "execution_count": 12,
   "id": "7ed0cdf7",
   "metadata": {},
   "outputs": [
    {
     "name": "stdout",
     "output_type": "stream",
     "text": [
      "Found 500 recommendations for 5 history items\n",
      "1. (similarity: 0.9118) (to 2): UPDATE 2-TD, Banknorth in talks on possible deal Toronto Dominion Bank (TD.TO: Quote, Profile, Research) said on Wednesday that it is in talks with US-based Banknorth Group (BNK.N: Quote, Profile, Research) about a possible deal, in line with the Canadian bank #39;s push for \n",
      "2. (similarity: 0.8244) (to 2): Canada bank, Banknorth talk \\$2B deal Canada #39;s Toronto Dominion Bank said Wednesday it is in talks with US-based Banknorth Group about a possible deal, while a published report said the two parties are in advanced negotiations that could lead to a \\$2.\n",
      "3. (similarity: 0.7716) (to 3): Energy proposal pushes debate toward center A nonpartisan group that includes advocates for business, labor, consumers, and the environment gave a significant nudge this week to the effort to craft a national energy policy.\n",
      "4. (similarity: 0.7573) (to 3): Global Warming Fight to Get Harder from 2012 -U.N (Reuters) Reuters - Fighting global warming will get\\tougher once the Kyoto protocol ends in 2012 and the world must\\try to get Washington involved in the long term, the head of\\the U.N. Environment Program said on Wednesday.\n",
      "5. (similarity: 0.7519) (to 3): Apec ministers urge new effort on trade talks SANTIAGO, Chile - Pacific Rim trading nations said today they should pool their influence to breathe new life into talks to free up world trade.\n",
      "6. (similarity: 0.7517) (to 3): Climate control delegates talk global warming BUENOS AIRES, Argentina - Delegates to a United Nations climate conference discussed new ways to combat greenhouse emissions after the current agreement expires as nearly 200 countries continued meetings Thursday on the effort to limit a gradual rise of \n",
      "7. (similarity: 0.7446) (to 4): Koizumi says N Korea unlikely to test-fire missile TOKYO - Prime Minister Junichiro Koizumi said Thursday that North Korea is unlikely to test-fire another ballistic missile.  quot;I think the possibility of launching one is low, quot; Koizumi told reporters.\n",
      "8. (similarity: 0.7428) (to 4): N.Korea May Be Preparing Missile Launch-Paper  TOKYO (Reuters) - The United States and Japan have detected  signs that North Korea is preparing to launch a ballistic  missile that could hit almost all of Japan, a Japanese  newspaper said on Thursday.\n",
      "9. (similarity: 0.7428) (to 3): APEC Ministers Urge New Effort on Trade Talks (Reuters) Reuters - Pacific Rim trading nations\\said on Wednesday they should pool their influence to breathe\\new life into talks to free up world trade.\n",
      "10. (similarity: 0.7236) (to 3): Minister upbeat on climate change The US may change its stance on global warming despite George Bush's re-election, says UK minister.\n"
     ]
    },
    {
     "name": "stderr",
     "output_type": "stream",
     "text": [
      "/Users/mohammedalageel/projects/text-recommendation/.venv/lib/python3.11/site-packages/torch/nn/modules/module.py:1762: FutureWarning: `encoder_attention_mask` is deprecated and will be removed in version 4.55.0 for `BertSdpaSelfAttention.forward`.\n",
      "  return forward_call(*args, **kwargs)\n"
     ]
    }
   ],
   "source": [
    "pca_recommender.show_rec(history_texts, history, sample_weight=10.0, k=10)"
   ]
  },
  {
   "cell_type": "code",
   "execution_count": 20,
   "id": "a440f2b0",
   "metadata": {},
   "outputs": [
    {
     "name": "stdout",
     "output_type": "stream",
     "text": [
      "Found 500 recommendations for 5 history items\n",
      "1. (similarity: 0.9991) (to 2): Toronto-Dominion to buy stake in Banknorth Toronto-Dominion Bank of Toronto said Thursday it agreed to acquire a 51 percent stake in New England regional bank Banknorth Group Inc.\n",
      "2. (similarity: 0.9990) (to 2): Canada bank, Banknorth talk \\$2B deal Canada #39;s Toronto Dominion Bank said Wednesday it is in talks with US-based Banknorth Group about a possible deal, while a published report said the two parties are in advanced negotiations that could lead to a \\$2.\n",
      "3. (similarity: 0.9988) (to 2): Canadians Confirm Talks on Bank Deal The Toronto-Dominion Bank confirmed on Wednesday that it was negotiating to buy all or part of the Banknorth Group, which has branches in five New England states and upstate New York.\n",
      "4. (similarity: 0.9976) (to 3): Kyoto Too Little to Fix Warming - UN Climate Chief (Reuters) Reuters - Although saved last week with Russian\\help, the Kyoto pact on global warming offers too little to\\arrest climate change and governments should adopt more radical\\solutions, the top U.N. climate expert said.\n",
      "5. (similarity: 0.9965) (to 1): Report: Southwest to cut 88 flights; local impact unclear Southwest Airlines plans to cut 88 flights from its schedule starting Oct. 31 in an effort to free up planes for more profitable markets, the Wall Street Journal reported Monday.\n",
      "6. (similarity: 0.9946) (to 4): Japan fears North Korea about to launch ballistic missile Japan has reportedly dispatched surveillance ships to the Sea of Japan, believing that North Korea may be preparing to launch a ballistic missile.\n",
      "7. (similarity: 0.9943) (to 4): Reports May Indicate N.Korea Nuclear Test-NY Times (Reuters) Reuters - The Bush administration has received\\recent intelligence reports that some experts believe could\\indicate North Korea is preparing to conduct its first nuclear\\weapons test explosion, The New York Times reported in Sunday\\editions.\n",
      "8. (similarity: 0.9942) (to 4): US wonders if North Korea is preparing for nuclear test WASHINGTON : The US intelligence community is in the grip of an internal debate on whether new data on North Korea should be interpreted as a sign the country is preparing for its first nuclear weapons test, US administration officials said.\n",
      "9. (similarity: 0.9925) (to 4): N. Korea ready #39; to fire off missile WASHINGTON--North Korea may be bluffing, but it appears ready to launch one or more Rodong ballistic missiles capable of hitting Japan anytime it wants, according to a senior US official.\n",
      "10. (similarity: 0.9908) (to 3): The US Approach to Climate Change There is a major UN climate change meeting underway in Buenos Aires: the tenth Conference of the Parties to the United Nations Framework Convention on Climate Change (COP-10).\n"
     ]
    },
    {
     "name": "stderr",
     "output_type": "stream",
     "text": [
      "/Users/mohammedalageel/projects/text-recommendation/.venv/lib/python3.11/site-packages/torch/nn/modules/module.py:1762: FutureWarning: `encoder_attention_mask` is deprecated and will be removed in version 4.55.0 for `BertSdpaSelfAttention.forward`.\n",
      "  return forward_call(*args, **kwargs)\n"
     ]
    }
   ],
   "source": [
    "umap_recommender.show_rec(history_texts, history, sample_weight=10.0, k=10)"
   ]
  },
  {
   "cell_type": "markdown",
   "id": "ceb468d9",
   "metadata": {},
   "source": [
    "Less random"
   ]
  },
  {
   "cell_type": "code",
   "execution_count": 21,
   "id": "51899297",
   "metadata": {},
   "outputs": [
    {
     "name": "stdout",
     "output_type": "stream",
     "text": [
      "Found 60 recommendations for 5 history items\n",
      "1. (similarity: 0.9125) (to 2): TD, Banknorth in Talks on Possible Deal (Reuters) Reuters - Canada's Toronto Dominion Bank (TD.TO)\\said on Wednesday that it is in talks with U.S.-based Banknorth\\Group (BNK.N) about a possible deal.\n",
      "2. (similarity: 0.9118) (to 2): UPDATE 2-TD, Banknorth in talks on possible deal Toronto Dominion Bank (TD.TO: Quote, Profile, Research) said on Wednesday that it is in talks with US-based Banknorth Group (BNK.N: Quote, Profile, Research) about a possible deal, in line with the Canadian bank #39;s push for \n",
      "3. (similarity: 0.8854) (to 2): Canada's TD Buys Banknorth for \\$3.8 Bln  TORONTO (Reuters) - Toronto-Dominion Bank &lt;A HREF=\"http://www.investor.reuters.com/FullQuote.aspx?ticker=TD.TO target=/stocks/quickinfo/fullquote\"&gt;TD.TO&lt;/A&gt; made a  much-anticipated push into U.S. retail banking on Thursday,  announcing it would acquire a majority stake in Banknorth Group  Inc. &lt;A HREF=\"http://www.investor.reuters.com/FullQuote.aspx?ticker=BNK.N target=/stocks/quickinfo/fullquote\"&gt;BNK.N&lt;/A&gt; for \\$3.8 billion.\n",
      "4. (similarity: 0.8686) (to 4): Prospect of North Korean Missile Launch 'Alarming' to Seoul South Korean Foreign Minister Ban Ki Moon said Thursday that intelligence indicating a possible launch of a North Korean ballistic missile could set back diplomatic efforts to resolve the crisis over Pyongyang's nuclear ambitions.\n",
      "5. (similarity: 0.8583) (to 2): TD, Banknorth in Talks on Possible Deal Canada #39;s Toronto Dominion Bank (TD.TO: Quote, Profile, Research) said on Wednesday that it is in talks with US-based Banknorth Group (BNK.\n",
      "6. (similarity: 0.8334) (to 4): N. Korea May Be Preparing Missile Launch Japan said it has obtained intelligence indicating that North Korea may be preparing to test fire a short-range missile, in what would be the latest provocation from the communist country.\n",
      "7. (similarity: 0.8322) (to 4): Signs N.Korea Preparing a Missile Test a Worry-U.S. (Reuters) Reuters - Signs that North Korea\\is preparing to test a ballistic missile are of great concern,\\a U.S. commander said on Sunday, adding that the North could be\\on the verge of big missile technology breakthroughs.\n",
      "8. (similarity: 0.8244) (to 2): Canada bank, Banknorth talk \\$2B deal Canada #39;s Toronto Dominion Bank said Wednesday it is in talks with US-based Banknorth Group about a possible deal, while a published report said the two parties are in advanced negotiations that could lead to a \\$2.\n",
      "9. (similarity: 0.8233) (to 4): North reported to be preparing missile launch South Korea and US intelligence sources have detected unusual activity in North Korea believed linked to possible preparation for a missile test, the Ministry of National Defense said yesterday.\n",
      "10. (similarity: 0.8204) (to 4): Fears of N Korea missile launch NORTH Korean missile bases are under close surveillance after increased activity detected by US and Japanese surveillance raised fears Pyongyang might be preparing to launch a missile across the Sea of Japan.\n"
     ]
    },
    {
     "name": "stderr",
     "output_type": "stream",
     "text": [
      "/Users/mohammedalageel/projects/text-recommendation/.venv/lib/python3.11/site-packages/torch/nn/modules/module.py:1762: FutureWarning: `encoder_attention_mask` is deprecated and will be removed in version 4.55.0 for `BertSdpaSelfAttention.forward`.\n",
      "  return forward_call(*args, **kwargs)\n"
     ]
    }
   ],
   "source": [
    "pca_recommender.show_rec(history_texts, history, sample_weight=1.2, k=10)"
   ]
  },
  {
   "cell_type": "code",
   "execution_count": 22,
   "id": "5a83593f",
   "metadata": {},
   "outputs": [
    {
     "name": "stdout",
     "output_type": "stream",
     "text": [
      "Found 60 recommendations for 5 history items\n",
      "1. (similarity: 0.9992) (to 2): Banknorth, TD Bank Are in Talks Canada #39;s TD Bank Financial Group is discussing  quot;a possible transaction quot; with the Northeast regional bank Banknorth Group Inc.\n",
      "2. (similarity: 0.9991) (to 2): Not a big hit everywhere Bill Ryan is spending the last days of the summer traveling across Canada and the United States to pitch big shareholders on the complicated plan to sell 51 percent of his Banknorth Group Inc. to Toronto-Dominion Bank .\n",
      "3. (similarity: 0.9991) (to 2): Toronto-Dominion to buy stake in Banknorth Toronto-Dominion Bank of Toronto said Thursday it agreed to acquire a 51 percent stake in New England regional bank Banknorth Group Inc.\n",
      "4. (similarity: 0.9990) (to 2): Canada bank, Banknorth talk \\$2B deal Canada #39;s Toronto Dominion Bank said Wednesday it is in talks with US-based Banknorth Group about a possible deal, while a published report said the two parties are in advanced negotiations that could lead to a \\$2.\n",
      "5. (similarity: 0.9989) (to 2): UPDATE 3-TD Bank woos Banknorth for US expansion Toronto-Dominion Bank (TD.TO: Quote, Profile, Research) , which earlier this year ended talks to merge its discount brokerage unit with E-Trade Financial (ET.\n",
      "6. (similarity: 0.9988) (to 2): Canadians Confirm Talks on Bank Deal The Toronto-Dominion Bank confirmed on Wednesday that it was negotiating to buy all or part of the Banknorth Group, which has branches in five New England states and upstate New York.\n",
      "7. (similarity: 0.9987) (to 2): Banknorth investors voice doubts on bid Banknorth Group Inc.'s biggest investors are voicing concerns about the proposed sale of a controlling stake to Toronto-Dominion Bank .\n",
      "8. (similarity: 0.9987) (to 2): TD, Banknorth in Talks on Possible Deal Canada #39;s Toronto Dominion Bank (TD.TO: Quote, Profile, Research) said on Wednesday that it is in talks with US-based Banknorth Group (BNK.\n",
      "9. (similarity: 0.9987) (to 2): Toronto-Dominion seeks Banknorth stake Toronto-Dominion Bank is in the final stages of negotiations to take a controlling interest in New England regional bank Banknorth Group Inc. in a transaction worth as much as \\$3.5 billion, according to executives involved in the talks.\n",
      "10. (similarity: 0.9986) (to 2): TD acquires Banknorth stake Banknorth branches across New England will become TD Banknorth under an agreement yesterday that gives Canada's TD Bank Financial Group a controlling stake in New England's largest independent bank.\n"
     ]
    },
    {
     "name": "stderr",
     "output_type": "stream",
     "text": [
      "/Users/mohammedalageel/projects/text-recommendation/.venv/lib/python3.11/site-packages/torch/nn/modules/module.py:1762: FutureWarning: `encoder_attention_mask` is deprecated and will be removed in version 4.55.0 for `BertSdpaSelfAttention.forward`.\n",
      "  return forward_call(*args, **kwargs)\n"
     ]
    }
   ],
   "source": [
    "umap_recommender.show_rec(history_texts, history, sample_weight=1.2, k=10)"
   ]
  },
  {
   "cell_type": "markdown",
   "id": "08cfcc96",
   "metadata": {},
   "source": [
    "No randomness"
   ]
  },
  {
   "cell_type": "code",
   "execution_count": 40,
   "id": "92698bc1",
   "metadata": {},
   "outputs": [
    {
     "name": "stdout",
     "output_type": "stream",
     "text": [
      "Found 20 recommendations for 2 history items\n",
      "1. (similarity: 0.8296) (to 1): Games With Get Up and Go  Video gaming has long suffered a reputation for creating sedentary and solitary zombies, pasty and pudgy except for their muscular thumbs. A growing number of games, however, are getting gamers off their couches and on their feet, not only shouting, gyrating, singing and dancing, but sometimes -- gasp! -- playing nicely with others, face-to-face, in groups.\n",
      "2. (similarity: 0.7992) (to 1): Video Games Teach More Than Hand-Eye Coordination  WASHINGTON (Reuters) - Video games, often maligned as  having little or no redeeming value, are becoming a way for  firefighters, soldiers, currency traders and college  administrators to hone their skills.\n",
      "3. (similarity: 0.7835) (to 1): How computer games grew up THEY USED TO be for kids. Space Invaders, Pong, Doom, some of them were shoot-em-up fun, others were just, well, fun. But computer games have changed.\n",
      "4. (similarity: 0.7802) (to 1): Computer game in which players shoot at JFK goes too far Three years ago, the city lost its legal battle to remove violent video games from public arcades in Indianapolis. As defeats go, this one was in some respects a crusher.\n",
      "5. (similarity: 0.7602) (to 1): Women take a shine to video games The makers of video games need acknowledge that women like to buy and play games, says a study.\n",
      "6. (similarity: 0.7536) (to 0): Smart little suckers A new generation of robotic vacuums is ready to do battle with dirt, dust and dog hair with more cleaning power and cunning than their ancestors could muster.\n",
      "7. (similarity: 0.7474) (to 1): The games kids play today are too violent No wonder people love computer and video games. They #39;re realistic, fast-paced, interactive and challenging. Just about any age can play.\n",
      "8. (similarity: 0.7381) (to 1): Game makers make play for adults The name of this game is who can capture the most adult gamers. Heading into the year-end shopping season, Sony Computer Entertainment Inc.\n",
      "9. (similarity: 0.7378) (to 1): Nintendo DS a Sleek Powerhouse The last time Nintendo Co. tried two screens, the result was a head-splitting virtual reality goggle called Virtual Boy that quickly flopped in the mid-1990s.\n",
      "10. (similarity: 0.7319) (to 1): Life is good Once upon a time, first-person shooter games had about as much plot and character development as a porn flick. Your digital hero just ran around and pumped hot lead into demons or aliens or Nazis, much like the porn hero .\n"
     ]
    },
    {
     "name": "stderr",
     "output_type": "stream",
     "text": [
      "/Users/mohammedalageel/projects/text-recommendation/.venv/lib/python3.11/site-packages/torch/nn/modules/module.py:1762: FutureWarning: `encoder_attention_mask` is deprecated and will be removed in version 4.55.0 for `BertSdpaSelfAttention.forward`.\n",
      "  return forward_call(*args, **kwargs)\n"
     ]
    }
   ],
   "source": [
    "pca_recommender.show_rec([\"robots\", \"gaming\"], [], sample_weight=1, k=10)"
   ]
  },
  {
   "cell_type": "code",
   "execution_count": 39,
   "id": "3caf3dcb",
   "metadata": {},
   "outputs": [
    {
     "name": "stdout",
     "output_type": "stream",
     "text": [
      "Found 20 recommendations for 2 history items\n",
      "1. (similarity: 0.9995) (to 0): They #39;re robots? Those beasts! NAHANT, Mass.--Joseph Ayers was crouched over a laptop in a cool cinder block shed barely big enough to house a ride-on lawn mower, watching a boxy-shelled black lobster through a rectangular acrylic window.\n",
      "2. (similarity: 0.9995) (to 1): Weaned on Video Games Video gamers are getting younger and younger. And parents and the video game industry agree that the implications are likely to be huge.\n",
      "3. (similarity: 0.9995) (to 0): iRobot readies for war--and the household Whether mopping up a battlefield or living room floor, the robot maker is working on vehicle to get the job done.\\\n",
      "4. (similarity: 0.9995) (to 1): Video games 'good for children' Computer games can promote problem-solving and team-building in children, say games industry experts.\n",
      "5. (similarity: 0.9994) (to 0): Robot Is Pivotal Member of the Force The youngest, smallest member of the Virginia State Police bomb squad can fearlessly pick up an unidentified bomb, walk into a tense hostage situation and hand a cell phone to a gunman. And he requires no food, water, insurance benefits or sleep.\n",
      "6. (similarity: 0.9991) (to 0): Smart little suckers A new generation of robotic vacuums is ready to do battle with dirt, dust and dog hair with more cleaning power and cunning than their ancestors could muster.\n",
      "7. (similarity: 0.9990) (to 0): More Robot Grunts Ready for Duty At an Army tech conference, companies show off new machines that do the work of flesh-and-blood soldiers. One sports machine guns to hunt down enemies. Another is an unmanned ambulance to take the wounded off the battlefield. Noah Shachtman reports from Orlando, Florida.\n",
      "8. (similarity: 0.9990) (to 1):  #39;Fable #39; weaves fun fantasy adventure When Peter Molyneux designs a game, players take notice. Referred to by many in the video game industry as a man with a Midas touch, this soft-spoken British game maker \n",
      "9. (similarity: 0.9989) (to 0): Robo-vacuum wins wall-to-wall praise at confab Robot fans cheer news that the \"Roomba\" has sucked up its 1 millionth buyer--a 'bot breakthrough,' they say.\n",
      "10. (similarity: 0.9988) (to 0): Robots Compete for Your Interest Robonexus Expo, which wrapped up over the weekend in Santa Clara, California, offered the requisite look at commercial robotics, robot parts and accessories, small-market redistributors, and research and experimental robots, but the overall theme and most \n"
     ]
    },
    {
     "name": "stderr",
     "output_type": "stream",
     "text": [
      "/Users/mohammedalageel/projects/text-recommendation/.venv/lib/python3.11/site-packages/torch/nn/modules/module.py:1762: FutureWarning: `encoder_attention_mask` is deprecated and will be removed in version 4.55.0 for `BertSdpaSelfAttention.forward`.\n",
      "  return forward_call(*args, **kwargs)\n"
     ]
    }
   ],
   "source": [
    "umap_recommender.show_rec([\"robots\", \"gaming\"], [], sample_weight=1, k=10)"
   ]
  },
  {
   "cell_type": "code",
   "execution_count": null,
   "id": "65d28175",
   "metadata": {},
   "outputs": [],
   "source": []
  }
 ],
 "metadata": {
  "kernelspec": {
   "display_name": ".venv",
   "language": "python",
   "name": "python3"
  },
  "language_info": {
   "codemirror_mode": {
    "name": "ipython",
    "version": 3
   },
   "file_extension": ".py",
   "mimetype": "text/x-python",
   "name": "python",
   "nbconvert_exporter": "python",
   "pygments_lexer": "ipython3",
   "version": "3.11.13"
  }
 },
 "nbformat": 4,
 "nbformat_minor": 5
}
