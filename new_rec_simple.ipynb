{
 "cells": [
  {
   "cell_type": "markdown",
   "id": "3aaadc4d",
   "metadata": {},
   "source": [
    "Import"
   ]
  },
  {
   "cell_type": "code",
   "execution_count": null,
   "id": "cf8b9444",
   "metadata": {},
   "outputs": [
    {
     "name": "stderr",
     "output_type": "stream",
     "text": [
      "/Users/mohammedalageel/projects/recommendation/.venv/lib/python3.11/site-packages/tqdm/auto.py:21: TqdmWarning: IProgress not found. Please update jupyter and ipywidgets. See https://ipywidgets.readthedocs.io/en/stable/user_install.html\n",
      "  from .autonotebook import tqdm as notebook_tqdm\n"
     ]
    }
   ],
   "source": [
    "import json\n",
    "import random\n",
    "from collections import defaultdict\n",
    "\n",
    "\n",
    "import numpy as np\n",
    "import hnswlib\n",
    "from sklearn.decomposition import PCA\n",
    "from sklearn.metrics.pairwise import cosine_similarity\n",
    "from sentence_transformers import SentenceTransformer"
   ]
  },
  {
   "cell_type": "markdown",
   "id": "d31a3cee",
   "metadata": {},
   "source": [
    "Functions"
   ]
  },
  {
   "cell_type": "code",
   "execution_count": 2,
   "id": "ac1223ce",
   "metadata": {},
   "outputs": [],
   "source": [
    "def load_dataset(file_path: str):\n",
    "    dataset = []\n",
    "    with open(file_path) as f:\n",
    "        for line in f.readlines():\n",
    "            dataset.append(json.loads(line))\n",
    "\n",
    "    len_before = len(dataset)\n",
    "    dataset = [d for d in dataset if len(d['short_description']) > 40]\n",
    "    num = len_before - len(dataset)\n",
    "    print(f'removed {num} short samples')\n",
    "    random.Random(42).shuffle(dataset)\n",
    "    texts = [i['short_description'] for i in dataset]\n",
    "    return texts\n",
    "\n",
    "\n",
    "def make_index(embeddings: np.ndarray, ef=50):\n",
    "    index = hnswlib.Index(space='cosine', dim=embeddings.shape[1])\n",
    "    index.init_index(max_elements=len(embeddings), ef_construction=200, M=16)\n",
    "    index.add_items(embeddings, np.arange(len(embeddings)))\n",
    "    index.set_ef(ef)  # ef should always be > k\n",
    "    return index\n",
    "\n",
    "\n",
    "def query_index(index: hnswlib.Index, query_embeddings: np.ndarray, k=5) -> tuple[list[int], list[float]]:\n",
    "    indices, distances = index.knn_query(query_embeddings, k)\n",
    "    # flatten\n",
    "    indices, distances = indices.flatten(), distances.flatten()\n",
    "\n",
    "    # get max similarity for each item\n",
    "    scores: defaultdict[int, float] = defaultdict(float)\n",
    "    for i, d in zip(indices, distances):\n",
    "        sim = 1 - d\n",
    "        idx = int(i)\n",
    "        scores[idx] = max(scores[idx], sim)\n",
    "\n",
    "    # rerank\n",
    "    scores_ranked = sorted(scores.items(), key=lambda x: x[1], reverse=True)\n",
    "    indices, distances = [i for i, _ in scores_ranked], [d for _, d in scores_ranked]\n",
    "    return  indices, distances\n",
    "\n",
    "def recommend(index: hnswlib.Index, history_embeddings: np.ndarray, history: list[int], sample_weight=10.0, k=20) -> tuple[list[int], list[float]]:\n",
    "    assert sample_weight >= 1, 'sample_weight should be >= 1'\n",
    "\n",
    "    indices, distances = query_index(index, history_embeddings, int(sample_weight * k))\n",
    "    # indices, distances = query_index(index, history_embeddings, k)\n",
    "    print(f'Found {len(indices)} recommendations for {len(history_embeddings)} history items')\n",
    "\n",
    "    if history:\n",
    "        # remove skipped indices\n",
    "        scores = [(i, v) for i, v in zip(indices, distances) if i not in history]\n",
    "        indices, distances = [i for i, _ in scores], [d for _, d in scores]\n",
    "    if sample_weight > 1:\n",
    "        # random subsample\n",
    "        sampled = list(zip(indices, distances))[:int(k * sample_weight)]\n",
    "        sampled = random.sample(sampled, k)\n",
    "        sampled = sorted(sampled, key=lambda x: x[1], reverse=True)\n",
    "        indices, distances = [i for i, _ in sampled], [d for _, d in sampled]\n",
    "    else:\n",
    "        # take top k\n",
    "        indices, distances = indices[:k], distances[:k]\n",
    "        \n",
    "    return indices, distances"
   ]
  },
  {
   "cell_type": "markdown",
   "id": "d9592ac2",
   "metadata": {},
   "source": [
    "Load Dataset"
   ]
  },
  {
   "cell_type": "code",
   "execution_count": 3,
   "id": "a24ce8ab",
   "metadata": {},
   "outputs": [
    {
     "name": "stdout",
     "output_type": "stream",
     "text": [
      "removed 37721 short samples\n"
     ]
    },
    {
     "data": {
      "text/plain": [
       "171806"
      ]
     },
     "execution_count": 3,
     "metadata": {},
     "output_type": "execute_result"
    }
   ],
   "source": [
    "texts = load_dataset('news.json')\n",
    "len(texts)"
   ]
  },
  {
   "cell_type": "markdown",
   "id": "3877f5ac",
   "metadata": {},
   "source": [
    "Load Models"
   ]
  },
  {
   "cell_type": "code",
   "execution_count": 4,
   "id": "1d619206",
   "metadata": {},
   "outputs": [],
   "source": [
    "embedder = SentenceTransformer('all-MiniLM-L6-v2')\n",
    "pca_model = PCA(n_components=50, random_state=42)"
   ]
  },
  {
   "cell_type": "markdown",
   "id": "7dffd750",
   "metadata": {},
   "source": [
    "Train Models"
   ]
  },
  {
   "cell_type": "code",
   "execution_count": 5,
   "id": "597f9bc6",
   "metadata": {},
   "outputs": [
    {
     "name": "stderr",
     "output_type": "stream",
     "text": [
      "Batches: 100%|██████████| 5369/5369 [01:46<00:00, 50.47it/s]\n"
     ]
    }
   ],
   "source": [
    "embeddings: np.ndarray = embedder.encode(texts, show_progress_bar=True)\n",
    "reduced_embeddings: np.ndarray = pca_model.fit_transform(embeddings)"
   ]
  },
  {
   "cell_type": "markdown",
   "id": "6c9002e1",
   "metadata": {},
   "source": [
    "Indexing"
   ]
  },
  {
   "cell_type": "code",
   "execution_count": 6,
   "id": "7027a568",
   "metadata": {},
   "outputs": [],
   "source": [
    "index = make_index(reduced_embeddings)"
   ]
  },
  {
   "cell_type": "code",
   "execution_count": null,
   "id": "b34b3be4",
   "metadata": {},
   "outputs": [],
   "source": [
    "def show_rec(history_texts: list[str], history: list[int], sample_weight=10.0, k=20):\n",
    "    history_embeddings = pca_model.transform(embedder.encode(history_texts))\n",
    "    indices, distances = recommend(index, history_embeddings, history, sample_weight, k)\n",
    "\n",
    "    for i, (idx, distance) in enumerate(zip(indices, distances)):\n",
    "        # get closest text match from history\n",
    "        cos_sim = cosine_similarity(history_embeddings, [reduced_embeddings[idx]])\n",
    "        # get highest similarity index\n",
    "        history_match_idx = np.argmax(cos_sim)\n",
    "        print(f'{i+1}. (similarity: {distance:.4f}): {texts[idx]}')\n",
    "        print(f'                    Closest history match: {history_texts[history_match_idx]} (similarity: {cos_sim[history_match_idx][0]:.4f})')"
   ]
  },
  {
   "cell_type": "markdown",
   "id": "1dd6579c",
   "metadata": {},
   "source": [
    "Testing"
   ]
  },
  {
   "cell_type": "code",
   "execution_count": 44,
   "id": "930720b9",
   "metadata": {},
   "outputs": [
    {
     "data": {
      "text/plain": [
       "['\\'The struggle for identity is everybody’s struggle. No matter what it is.\"',\n",
       " 'Yesterday Koa gave you eight reasons to NOT seek out mom friends. Koa makes the very valid point that moms should : not seek',\n",
       " \"This may feel as if I've asked you to suck on a lemon, but find a way, anyway, that you can to feel better about your boss.  Go on... I challenge you, even though I know you're kicking and screaming with resistance, and you're about to delete this post.\",\n",
       " 'Shopping in a souk can be a mystery. The guidebooks command you to bargain -- but how, without either feeling like an idiot or an Ugly American?',\n",
       " 'It could even affect how you see this article.']"
      ]
     },
     "execution_count": 44,
     "metadata": {},
     "output_type": "execute_result"
    }
   ],
   "source": [
    "history = random.sample(range(len(texts)), k=5)\n",
    "history_texts = [texts[i] for i in history]\n",
    "history_texts"
   ]
  },
  {
   "cell_type": "markdown",
   "id": "d5c1f9b1",
   "metadata": {},
   "source": [
    "More random"
   ]
  },
  {
   "cell_type": "code",
   "execution_count": null,
   "id": "a440f2b0",
   "metadata": {},
   "outputs": [
    {
     "name": "stdout",
     "output_type": "stream",
     "text": [
      "Found 1000 recommendations for 5 history items\n",
      "1. (similarity: 0.7972): \"I want all of us to walk down the street that leads us to a place of humanity and equality, of fairness and respect for each other.\"\n",
      "                    Closest history match: 'The struggle for identity is everybody’s struggle. No matter what it is.\" (similarity: 0.7972)\n",
      "2. (similarity: 0.7354): “We stand together, not as a people of hate, but as a people of hope.”\n",
      "                    Closest history match: 'The struggle for identity is everybody’s struggle. No matter what it is.\" (similarity: 0.7354)\n",
      "3. (similarity: 0.7231): \"We’re giving people the tools to represent themselves.\"\n",
      "                    Closest history match: 'The struggle for identity is everybody’s struggle. No matter what it is.\" (similarity: 0.7231)\n",
      "4. (similarity: 0.7218): \"I hope we can all learn to embrace who we are & not judge people who aren't exactly the same as us,\" wrote Keiynan Lonsdale.\n",
      "                    Closest history match: 'The struggle for identity is everybody’s struggle. No matter what it is.\" (similarity: 0.7218)\n",
      "5. (similarity: 0.7059): \"There can be no compromise with racism; no negotiation with hate.\"\n",
      "                    Closest history match: 'The struggle for identity is everybody’s struggle. No matter what it is.\" (similarity: 0.7059)\n",
      "6. (similarity: 0.6949): Loudon Wainwright: \"It's hard to be objective about oneself. I don't know what's different, it doesn't feel like anything has changed in the 40 years that I've been writing songs.\"\n",
      "                    Closest history match: 'The struggle for identity is everybody’s struggle. No matter what it is.\" (similarity: 0.6949)\n",
      "7. (similarity: 0.6883): \"You can make a difference. You can change your world.\"\n",
      "                    Closest history match: 'The struggle for identity is everybody’s struggle. No matter what it is.\" (similarity: 0.6883)\n",
      "8. (similarity: 0.6865): From personal experience, Kate McGuinness shares advice—and warnings—with a friend who recently became a step mother. Read\n",
      "                    Closest history match: Yesterday Koa gave you eight reasons to NOT seek out mom friends. Koa makes the very valid point that moms should : not seek (similarity: 0.6865)\n",
      "9. (similarity: 0.6807): Adriana claims her mom and her stepdad are making her choose between raising her child and being with her boyfriend of two\n",
      "                    Closest history match: Yesterday Koa gave you eight reasons to NOT seek out mom friends. Koa makes the very valid point that moms should : not seek (similarity: 0.6807)\n",
      "10. (similarity: 0.6755): \"It felt that race being a part of it was a perfectly honest way of looking at what would happen in society.\"\n",
      "                    Closest history match: 'The struggle for identity is everybody’s struggle. No matter what it is.\" (similarity: 0.6755)\n",
      "11. (similarity: 0.6740): \"We wanted to explore the diversity of identity and human experience, not theoretically and not academically, but intimately.\"\n",
      "                    Closest history match: 'The struggle for identity is everybody’s struggle. No matter what it is.\" (similarity: 0.6740)\n",
      "12. (similarity: 0.6715): \"Trans is not mean to anybody. Queering up your sexuality isn’t mean to anybody.\"\n",
      "                    Closest history match: 'The struggle for identity is everybody’s struggle. No matter what it is.\" (similarity: 0.6715)\n",
      "13. (similarity: 0.6693): I have never understood the rational that mothers should not be friends with their daughters (or their sons). Who else can our daughters trust to have their best interest in mind?\n",
      "                    Closest history match: Yesterday Koa gave you eight reasons to NOT seek out mom friends. Koa makes the very valid point that moms should : not seek (similarity: 0.6693)\n",
      "14. (similarity: 0.6671): \"It's only hard when it's derogatory, and it's mostly derogatory.\"\n",
      "                    Closest history match: 'The struggle for identity is everybody’s struggle. No matter what it is.\" (similarity: 0.6671)\n",
      "15. (similarity: 0.6667): When it comes to dealing with a breakup, does mother know best? With Mother's Day fast approaching, we asked our Facebook\n",
      "                    Closest history match: Yesterday Koa gave you eight reasons to NOT seek out mom friends. Koa makes the very valid point that moms should : not seek (similarity: 0.6667)\n",
      "16. (similarity: 0.6658): \"If one thing I can take is being the 'People’s Queen,' then I will take that and hold onto that.\"\n",
      "                    Closest history match: 'The struggle for identity is everybody’s struggle. No matter what it is.\" (similarity: 0.6658)\n",
      "17. (similarity: 0.6651): “This is our own form of nonviolent resistance.”\n",
      "                    Closest history match: 'The struggle for identity is everybody’s struggle. No matter what it is.\" (similarity: 0.6651)\n",
      "18. (similarity: 0.6642): \"I think the challenge is to connect, always, and to be heard, and to be emotionally consistent.\"\n",
      "                    Closest history match: 'The struggle for identity is everybody’s struggle. No matter what it is.\" (similarity: 0.6642)\n",
      "19. (similarity: 0.6635): Weird things are for sale out there and making them yours for a good price takes some courage and finesse. Luckily, haggling is a part of every culture and only those afraid to bargain get gypped.\n",
      "                    Closest history match: Shopping in a souk can be a mystery. The guidebooks command you to bargain -- but how, without either feeling like an idiot or an Ugly American? (similarity: 0.6635)\n",
      "20. (similarity: 0.6620): “F everything and everybody, whoever tells you you can’t do it!\"\n",
      "                    Closest history match: 'The struggle for identity is everybody’s struggle. No matter what it is.\" (similarity: 0.6620)\n"
     ]
    }
   ],
   "source": [
    "show_rec(history_texts, history, sample_weight=10.0, k=20)"
   ]
  },
  {
   "cell_type": "markdown",
   "id": "ceb468d9",
   "metadata": {},
   "source": [
    "Less random"
   ]
  },
  {
   "cell_type": "code",
   "execution_count": null,
   "id": "5a83593f",
   "metadata": {},
   "outputs": [
    {
     "name": "stdout",
     "output_type": "stream",
     "text": [
      "Found 120 recommendations for 5 history items\n",
      "1. (similarity: 0.7934): \"A just society is not one built on fear or repression or vengeance or exclusion, but one built on love.\"\n",
      "                    Closest history match: 'The struggle for identity is everybody’s struggle. No matter what it is.\" (similarity: 0.7934)\n",
      "2. (similarity: 0.7756): \"I want to believe that we can truly have equality in this world ― and the arts are a damn good place to start.”\n",
      "                    Closest history match: 'The struggle for identity is everybody’s struggle. No matter what it is.\" (similarity: 0.7756)\n",
      "3. (similarity: 0.7700): \"We are finally allowing people to, rightfully so, define themselves.\"\n",
      "                    Closest history match: 'The struggle for identity is everybody’s struggle. No matter what it is.\" (similarity: 0.7700)\n",
      "4. (similarity: 0.7678): Whether your boss is ignoring you or just being plain mean, we came up with some tips for how to handle even the toughest of bosses.\n",
      "                    Closest history match: This may feel as if I've asked you to suck on a lemon, but find a way, anyway, that you can to feel better about your boss.  Go on... I challenge you, even though I know you're kicking and screaming with resistance, and you're about to delete this post. (similarity: 0.7678)\n",
      "5. (similarity: 0.7673): \"Trans people are not cliches and there is no one way to 'do trans right'...\"\n",
      "                    Closest history match: 'The struggle for identity is everybody’s struggle. No matter what it is.\" (similarity: 0.7673)\n",
      "6. (similarity: 0.7589): \"To any who claim supremacy over other human beings, to any who believe in racial or religious hierarchy: we are not you.\"\n",
      "                    Closest history match: 'The struggle for identity is everybody’s struggle. No matter what it is.\" (similarity: 0.7589)\n",
      "7. (similarity: 0.7551): “Even though we all come from different religions and ethnicities, we’re all one.\"\n",
      "                    Closest history match: 'The struggle for identity is everybody’s struggle. No matter what it is.\" (similarity: 0.7551)\n",
      "8. (similarity: 0.7541): “We might be of different color, but here we are all equal.”\n",
      "                    Closest history match: 'The struggle for identity is everybody’s struggle. No matter what it is.\" (similarity: 0.7541)\n",
      "9. (similarity: 0.7431): “We can’t fight against one injustice without fighting against all injustices.”\n",
      "                    Closest history match: 'The struggle for identity is everybody’s struggle. No matter what it is.\" (similarity: 0.7431)\n",
      "10. (similarity: 0.7430): \"Diversity comes out of the word independence.\"\n",
      "                    Closest history match: 'The struggle for identity is everybody’s struggle. No matter what it is.\" (similarity: 0.7430)\n",
      "11. (similarity: 0.7361): “People who believe in freedom, justice and the humanity of all people are the majority, and we’ve had enough.”\n",
      "                    Closest history match: 'The struggle for identity is everybody’s struggle. No matter what it is.\" (similarity: 0.7361)\n",
      "12. (similarity: 0.7361): \"We want people from all manner of diverse backgrounds to experience joy.\"\n",
      "                    Closest history match: 'The struggle for identity is everybody’s struggle. No matter what it is.\" (similarity: 0.7361)\n",
      "13. (similarity: 0.7347): There is no protocol when it comes to how one thrives after the passing of a parent.\n",
      "                    Closest history match: Yesterday Koa gave you eight reasons to NOT seek out mom friends. Koa makes the very valid point that moms should : not seek (similarity: 0.7347)\n",
      "14. (similarity: 0.7319): “We believe no matter who you are, where you’re from, who you love or who you worship, we all belong.\"\n",
      "                    Closest history match: 'The struggle for identity is everybody’s struggle. No matter what it is.\" (similarity: 0.7319)\n",
      "15. (similarity: 0.7317): Whether you have an inkling or a pounding sensation that the boss is wrong, here are six strategies to help you win your boss' respect without losing your job\n",
      "                    Closest history match: This may feel as if I've asked you to suck on a lemon, but find a way, anyway, that you can to feel better about your boss.  Go on... I challenge you, even though I know you're kicking and screaming with resistance, and you're about to delete this post. (similarity: 0.7317)\n",
      "16. (similarity: 0.7312): “All I have to say is, this is a world that’s so full of hate lately and it’s up to us to realize that it doesn’t have to be. We can come together.”\n",
      "                    Closest history match: 'The struggle for identity is everybody’s struggle. No matter what it is.\" (similarity: 0.7312)\n",
      "17. (similarity: 0.7286): \"Embrace what makes you different and use it to stand out.\"\n",
      "                    Closest history match: 'The struggle for identity is everybody’s struggle. No matter what it is.\" (similarity: 0.7286)\n",
      "18. (similarity: 0.7284): \"So few things seem to bring us all together these days and I feel privileged to feel a part of that.”\n",
      "                    Closest history match: 'The struggle for identity is everybody’s struggle. No matter what it is.\" (similarity: 0.7284)\n",
      "19. (similarity: 0.7274): \"Our history, our faith and our values teach us that we cannot sit idly by when others are singled out for derision and when intolerance is fed.\"\n",
      "                    Closest history match: 'The struggle for identity is everybody’s struggle. No matter what it is.\" (similarity: 0.7274)\n",
      "20. (similarity: 0.7235): \"We should be striving to nurture individuality and creativity, and understand that each expression of self is valid.\"\n",
      "                    Closest history match: 'The struggle for identity is everybody’s struggle. No matter what it is.\" (similarity: 0.7235)\n"
     ]
    }
   ],
   "source": [
    "show_rec(history_texts, history, sample_weight=1.2, k=20)"
   ]
  },
  {
   "cell_type": "markdown",
   "id": "08cfcc96",
   "metadata": {},
   "source": [
    "No randomness"
   ]
  },
  {
   "cell_type": "code",
   "execution_count": null,
   "id": "3caf3dcb",
   "metadata": {},
   "outputs": [
    {
     "name": "stdout",
     "output_type": "stream",
     "text": [
      "Found 40 recommendations for 2 history items\n",
      "1. (similarity: 0.7091): Video games. A time-honored way to put off homework, spend time with friends, and rewire our brains.\n",
      "                    Closest history match: gaming (similarity: 0.7091)\n",
      "2. (similarity: 0.6444): The diagnostic criteria for Internet gaming disorder describe individuals who play compulsively, to the point where online gaming becomes the dominant focus of their life and all other interests or needs are ignored.\n",
      "                    Closest history match: gaming (similarity: 0.6444)\n",
      "3. (similarity: 0.6439): We often hear that in sports or other performance-related activities, the mental game is as important as the physical game. Fair enough. But what exactly is the mental game?\n",
      "                    Closest history match: gaming (similarity: 0.6439)\n",
      "4. (similarity: 0.6322): Remember that obstinate computer from Stanley Kubrick’s 2001: A Space Odyssey — HAL 9000 — a machine with a will of its own\n",
      "                    Closest history match: ai (similarity: 0.6322)\n",
      "5. (similarity: 0.6232): Each day we wake up, we enter the video game we have chosen for our life. And each day, we become better and better at learning the rules that help us win, no matter how fun or damaging the game is.\n",
      "                    Closest history match: gaming (similarity: 0.6232)\n",
      "6. (similarity: 0.6223): \"The beauty of AI systems is that we can get enough scale to deploy this to everyone on the planet.\"\n",
      "                    Closest history match: ai (similarity: 0.6223)\n",
      "7. (similarity: 0.6177): By Michael Moyer Two years ago we featured an incredible video of the Antikythera Mechanism—an ancient Greek computing device\n",
      "                    Closest history match: ai (similarity: 0.6177)\n",
      "8. (similarity: 0.6118): For the young and able-bodied, online networking is an invaluable tool of commerce, social life and entertainment. For those whose social circles have diminished because of age, illness or limited mobility, social networking can be a bridge out of isolation and depression.\n",
      "                    Closest history match: gaming (similarity: 0.6118)\n",
      "9. (similarity: 0.6082): IN A MAJOR breakthrough for artificial intelligence, a computing system developed by Google researchers in Great Britain\n",
      "                    Closest history match: ai (similarity: 0.6082)\n",
      "10. (similarity: 0.6070): The computer is one of two that control major U.S. systems aboard the orbiting outpost.\n",
      "                    Closest history match: ai (similarity: 0.6070)\n",
      "11. (similarity: 0.6067): \"Our goal is to advance digital intelligence in the way that is most likely to benefit humanity as a whole.\"\n",
      "                    Closest history match: ai (similarity: 0.6067)\n",
      "12. (similarity: 0.6007): Check out some of our Google poetry below: It has been said that computers can do everything that humans can do, except write\n",
      "                    Closest history match: ai (similarity: 0.6007)\n",
      "13. (similarity: 0.5973): I describe the geneticist role as a puzzle solver.\n",
      "                    Closest history match: ai (similarity: 0.5973)\n",
      "14. (similarity: 0.5967): It's just like Google, but, like, you have to do work.\n",
      "                    Closest history match: ai (similarity: 0.5967)\n",
      "15. (similarity: 0.5917): Swift understands the key principle of having a point and nailing it.\n",
      "                    Closest history match: ai (similarity: 0.5917)\n",
      "16. (similarity: 0.5856): Such programs allow cyber experts to find and identify problems before malicious hackers can exploit them.\n",
      "                    Closest history match: ai (similarity: 0.5856)\n",
      "17. (similarity: 0.5837): By Jeffrey Kopman Video games can be active games too, according to exercise experts. Researchers at the University of Chester\n",
      "                    Closest history match: gaming (similarity: 0.5837)\n",
      "18. (similarity: 0.5826): At an artificial intelligence conference, a good question gets a surprising answer.\n",
      "                    Closest history match: ai (similarity: 0.5826)\n",
      "19. (similarity: 0.5776): There's a vast sea of apps, games, and websites out there. Keeping the three \"Cs\" -- connection, critical thinking and creativity -- in mind can help you find some of the gems.\n",
      "                    Closest history match: gaming (similarity: 0.5776)\n",
      "20. (similarity: 0.5768): The most important thing that HR should focus on in talent management is assessing the skills the organization needs to implement its strategy, and the plan for recruiting and managing that critical talent.\n",
      "                    Closest history match: ai (similarity: 0.5768)\n"
     ]
    }
   ],
   "source": [
    "show_rec(['gaming', 'ai'], [], sample_weight=1, k=20)"
   ]
  },
  {
   "cell_type": "code",
   "execution_count": null,
   "id": "92698bc1",
   "metadata": {},
   "outputs": [],
   "source": []
  }
 ],
 "metadata": {
  "kernelspec": {
   "display_name": ".venv",
   "language": "python",
   "name": "python3"
  },
  "language_info": {
   "codemirror_mode": {
    "name": "ipython",
    "version": 3
   },
   "file_extension": ".py",
   "mimetype": "text/x-python",
   "name": "python",
   "nbconvert_exporter": "python",
   "pygments_lexer": "ipython3",
   "version": "3.11.13"
  }
 },
 "nbformat": 4,
 "nbformat_minor": 5
}
