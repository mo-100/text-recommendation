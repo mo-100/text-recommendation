{
 "cells": [
  {
   "cell_type": "markdown",
   "id": "3aaadc4d",
   "metadata": {},
   "source": [
    "Import"
   ]
  },
  {
   "cell_type": "code",
   "execution_count": 37,
   "id": "cf8b9444",
   "metadata": {},
   "outputs": [],
   "source": [
    "import random\n",
    "\n",
    "\n",
    "import numpy as np\n",
    "from sklearn.decomposition import PCA\n",
    "from sentence_transformers import SentenceTransformer\n",
    "from umap import UMAP\n",
    "from datasets import load_dataset\n",
    "from scipy.spatial.distance import cdist\n",
    "\n",
    "import utils\n",
    "from models import EmbeddingRecommender, Index"
   ]
  },
  {
   "cell_type": "markdown",
   "id": "d9592ac2",
   "metadata": {},
   "source": [
    "Load Dataset"
   ]
  },
  {
   "cell_type": "code",
   "execution_count": 2,
   "id": "4b6792db",
   "metadata": {},
   "outputs": [
    {
     "data": {
      "text/plain": [
       "127600"
      ]
     },
     "execution_count": 2,
     "metadata": {},
     "output_type": "execute_result"
    }
   ],
   "source": [
    "ds = load_dataset(\"fancyzhx/ag_news\", split=\"all\")\n",
    "texts: list[str] = [ds[i][\"text\"] for i in range(len(ds))]\n",
    "len(texts)"
   ]
  },
  {
   "cell_type": "markdown",
   "id": "3877f5ac",
   "metadata": {},
   "source": [
    "Load Models and train them"
   ]
  },
  {
   "cell_type": "code",
   "execution_count": 3,
   "id": "597f9bc6",
   "metadata": {},
   "outputs": [
    {
     "name": "stderr",
     "output_type": "stream",
     "text": [
      "Batches:   0%|          | 0/3988 [00:00<?, ?it/s]/Users/mohammedalageel/projects/text-recommendation/.venv/lib/python3.11/site-packages/torch/nn/modules/module.py:1762: FutureWarning: `encoder_attention_mask` is deprecated and will be removed in version 4.55.0 for `BertSdpaSelfAttention.forward`.\n",
      "  return forward_call(*args, **kwargs)\n",
      "Batches: 100%|██████████| 3988/3988 [02:09<00:00, 30.80it/s]\n"
     ]
    }
   ],
   "source": [
    "embedder = SentenceTransformer(\"all-MiniLM-L6-v2\")\n",
    "embeddings: np.ndarray = embedder.encode(texts, show_progress_bar=True)"
   ]
  },
  {
   "cell_type": "code",
   "execution_count": 4,
   "id": "9abd8f4d",
   "metadata": {},
   "outputs": [
    {
     "name": "stderr",
     "output_type": "stream",
     "text": [
      "/Users/mohammedalageel/projects/text-recommendation/.venv/lib/python3.11/site-packages/umap/umap_.py:1952: UserWarning: n_jobs value 1 overridden to 1 by setting random_state. Use no seed for parallelism.\n",
      "  warn(\n"
     ]
    }
   ],
   "source": [
    "umap_model = UMAP(n_components=50, random_state=42, n_neighbors=15, min_dist=0.1, metric=\"euclidean\", low_memory=False)\n",
    "umap_embeddings: np.ndarray = umap_model.fit_transform(embeddings)"
   ]
  },
  {
   "cell_type": "code",
   "execution_count": 5,
   "id": "44732606",
   "metadata": {},
   "outputs": [],
   "source": [
    "pca_model = PCA(n_components=50, random_state=42)\n",
    "pca_embeddings: np.ndarray = pca_model.fit_transform(embeddings)"
   ]
  },
  {
   "cell_type": "markdown",
   "id": "6c9002e1",
   "metadata": {},
   "source": [
    "Indexing"
   ]
  },
  {
   "cell_type": "code",
   "execution_count": 6,
   "id": "7027a568",
   "metadata": {},
   "outputs": [],
   "source": [
    "umap_index = Index(umap_embeddings, space=\"l2\", ef=200)\n",
    "pca_index = Index(pca_embeddings, space=\"cosine\", ef=200)"
   ]
  },
  {
   "cell_type": "code",
   "execution_count": 7,
   "id": "b34b3be4",
   "metadata": {},
   "outputs": [],
   "source": [
    "umap_recommender = EmbeddingRecommender(\n",
    "    umap_index,\n",
    "    lambda ids: umap_embeddings[ids],\n",
    "    k=10,\n",
    "    sample_weight=1.0,\n",
    ")\n",
    "pca_recommender = EmbeddingRecommender(\n",
    "    pca_index,\n",
    "    lambda ids: pca_embeddings[ids],\n",
    "    k=10,\n",
    "    sample_weight=1.0,\n",
    ")\n",
    "# pca should be more general and umap more precise"
   ]
  },
  {
   "cell_type": "markdown",
   "id": "1dd6579c",
   "metadata": {},
   "source": [
    "Testing"
   ]
  },
  {
   "cell_type": "code",
   "execution_count": 44,
   "id": "ac1223ce",
   "metadata": {},
   "outputs": [],
   "source": [
    "def show_rec(recommender: EmbeddingRecommender, history_ids: list[int], texts: list[str]):\n",
    "    scores = recommender.recommend(history_ids)\n",
    "    scores = utils.skip_history(scores, history_ids)\n",
    "    if recommender.sample_weight > 1:\n",
    "        scores = utils.take_top_k(scores, k=int(recommender.k * recommender.sample_weight))\n",
    "        scores = utils.take_random(scores, k=recommender.k)\n",
    "    else:\n",
    "        scores = utils.take_top_k(scores, k=recommender.k)\n",
    "    indices, scores = utils.unpack_scores(scores)\n",
    "    cos_sim = cdist(umap_embeddings[indices], recommender.get_history_embeddings(history_ids), metric=\"cosine\")\n",
    "    print(cos_sim.shape)\n",
    "    for i, (idx, d) in enumerate(zip(indices, scores)):\n",
    "        matching_idx = np.argmin(cos_sim[i])\n",
    "        print(f\"Item ID: {idx}, Score: {d:.4f} History index: {matching_idx}, Text: {texts[idx]}\")"
   ]
  },
  {
   "cell_type": "code",
   "execution_count": 63,
   "id": "930720b9",
   "metadata": {},
   "outputs": [
    {
     "name": "stdout",
     "output_type": "stream",
     "text": [
      "0: Tiger looking for his first win in Japan Miyazaki - Tiger Woods will be looking for his first win in Japan when he tees off on Thursday in the Dunlop Phoenix golf tournament.\n",
      "1: Virgin to offer space flights High-flying Brit entrepreneur Richard Branson today announced the imminent take-off of the  quot;VSS Virgin quot; - a scaled-up version of Burt Rutan #39;s SpacShipOne - which will offer well-to-do wannabe astronauts the chance of zero-grav flights for a mere 100,000 \n",
      "2: Thai PM Says Will Punish  #39;Wrongdoers #39; Over Deaths Bomb blasts rocked southern Thailand on Friday as Prime Minister Thaksin Shinawatra promised to get to the bottom of the deaths of 78 Muslims in military custody and punish any  quot;wrongdoers.\n",
      "3: Dollar Steadies, More Weakness Expected (Reuters) Reuters - The U.S. dollar paused near recent\\lows Friday but dealers expected selling to resume after a\\weekend meeting of G20 finance ministers, while stock investors\\sought cover in companies immune to currency risks.\n",
      "4: Britain #39;s Law takes equestrian silver ATHENS (Reuters) Britain #39;s Leslie Law has won silver in the equestrian three-day event individual behind Bettina Hoy of Germany. \n"
     ]
    }
   ],
   "source": [
    "history = random.sample(range(len(texts)), k=5)\n",
    "history_texts = [texts[i] for i in history]\n",
    "for i, text in enumerate(history_texts):\n",
    "    print(f\"{i}: {text}\")"
   ]
  },
  {
   "cell_type": "markdown",
   "id": "d5c1f9b1",
   "metadata": {},
   "source": [
    "More random"
   ]
  },
  {
   "cell_type": "code",
   "execution_count": 64,
   "id": "7ed0cdf7",
   "metadata": {},
   "outputs": [
    {
     "name": "stdout",
     "output_type": "stream",
     "text": [
      "Found 500 recommendations for 5 history items\n",
      "(10, 5)\n",
      "Item ID: 41002, Score: 0.9997 History index: 1, Text: Branson unveils deal for first commercial space flights The Virgin chief Sir Richard Branson announced his company has signed an agreement potentially worth 14 million to secure the world #39;s first commercial flights to space.\n",
      "Item ID: 122575, Score: 0.9997 History index: 1, Text: Now Virgin to offer trips to space LONDON, England -- British entrepreneur Richard Branson announced his company has signed a deal to offer the world #39;s first commercial flights to space under the branding  quot;Virgin Galactic.\n",
      "Item ID: 42219, Score: 0.9992 History index: 1, Text: British tycoon wants to fly you to space Richard Branson, the British tycoon known for daredevil exploits in a speedboat, a hot-air balloon and an amphibious car, wants to take a giant leap into the final frontier -- and to give a lift out of this world to similarly intrepid paying passengers.\n",
      "Item ID: 41988, Score: 0.9987 History index: 1, Text: Billionaire #39;s latest venture said to be out of this world Sir Richard Branson, airline mogul and adventurer, announced plans yesterday to boldly go where no private transport company has gone before -- into space.\n",
      "Item ID: 42153, Score: 0.9987 History index: 1, Text: Branson #39;s space dream Sir Richard Branson may want to send people into space, but first he #39;ll have to grasp how to get his Virgin trains to arrive and leave anywhere on time.\n",
      "Item ID: 82218, Score: 0.9984 History index: 3, Text: Dollar Struggles Before U.S. Jobs Report (Reuters) Reuters - European stocks jumped to fresh 6-month\\highs on Friday, buoyed by lower oil prices and a strong rally\\on Wall Street, but the dollar hung close to record lows\\against the euro ahead of key U.S. jobs data.\n",
      "Item ID: 40908, Score: 0.9984 History index: 1, Text: Billionaire Branson Unveils Space Tourism Plans LONDON (AFP) -- British airline magnate Richard Branson announced a hugely ambitious plan for the world's first commercial space flights, saying he would send \"thousands\" of fee-paying astronauts into orbit in the next five years.       Branson, a flamboyant communicator and high-profile tycoon, said his Virgin Atlantic airline had signed a technology licensing deal with the US company behind SpaceShipOne, which in June became the first private manned craft to travel to space...\n",
      "Item ID: 17632, Score: 0.9978 History index: 3, Text: Dollar Is Calm Before Payrolls Storm  LONDON (Reuters) - The dollar shuttled in narrow ranges  against other major currencies on Friday as investors awaited  upcoming U.S. jobs data for clues on the future path of  interest rates.\n",
      "Item ID: 76710, Score: 0.9975 History index: 2, Text: Bombing kills 2 in Thailand; villagers bury 22 who died in custody Fresh violence erupted yesterday with the bombing of a bar in Thailand #39;s mostly Muslim south, as villagers held a mass burial for some of the 78 protesters who suffocated in army custody this week.\n",
      "Item ID: 80714, Score: 0.9974 History index: 2, Text: Revenge Attacks Feared Across Thailand BANGKOK, November 3 (IslamOnline.net  amp; News Agencies) - Amid mounting fears of spreading violence across Thailand over the killings of scores of Thai Muslims by security forces, a local Buddhist official was beheaded in what seems a revenge act for the \n"
     ]
    }
   ],
   "source": [
    "umap_recommender.sample_weight = 10\n",
    "show_rec(umap_recommender, history, texts)"
   ]
  },
  {
   "cell_type": "code",
   "execution_count": 65,
   "id": "a440f2b0",
   "metadata": {},
   "outputs": [
    {
     "name": "stdout",
     "output_type": "stream",
     "text": [
      "Found 500 recommendations for 5 history items\n",
      "(10, 5)\n",
      "Item ID: 94903, Score: 0.8728 History index: 0, Text: Golf: Woods off to flying start in bid for first Japan tour win MIYAZAKI, Japan : American superstar Tiger Woods overcame rainy conditions to hit a five-under-par 65 for a three-stroke lead in the first round of the Dunlop Phoenix golf tournament.\n",
      "Item ID: 11388, Score: 0.8240 History index: 0, Text: Bombs explode in Thailand #39;s south Two explosions rocked Thailand #39;s troubled southern region Thursday, killing one person and injuring as many as two dozen others.\n",
      "Item ID: 7217, Score: 0.8235 History index: 0, Text: Experts defuse bomb in Thailand #39;s violence-hit south Experts defused a large bomb Monday in a city where three similar devices exploded over the weekend - the latest violence blamed on suspected Islamic militants in Thailand #39;s troubled south.\n",
      "Item ID: 122650, Score: 0.8186 History index: 0, Text: Virgin to Launch Commercial Space Flights by 2007 SEPTEMBER 28, 2004 -- London -- The ultimate high-end incentive trip took another step closer to reality yesterday when Richard Branson, head of the Virgin Group, announced plans to launch commercial space flights by 2007.\n",
      "Item ID: 40704, Score: 0.8182 History index: 0, Text: Virgin boss in space tourism bid Virgin boss Sir Richard Branson announces plans to secure the first commercial flights into space.\n",
      "Item ID: 82413, Score: 0.7780 History index: 0, Text: Thai PM warns of more violence Thai Prime Minister Thaksin Shinawatra has warned that violence in the country #39;s south could get worse. Mr Thaksin said suspected Muslim separatists wanted to provoke the government into over-reacting.\n",
      "Item ID: 117325, Score: 0.7766 History index: 0, Text: Dollar Under Pressure in Thin Trading (Reuters) Reuters - The dollar was feeling the heat on\\Thursday as concerns about the U.S. trade and current account\\deficits hardened the market's view that the currency's\\downward spiral would continue.\n",
      "Item ID: 124309, Score: 0.7720 History index: 0, Text: Dollar Stabilizes Above Recent Lows (Reuters) Reuters - The dollar edged up against the yen and\\steadied against the euro on Friday, but kept within sight of\\multi-month lows hit this week on worries about the U.S.\\economy and its ability to attract global investors.\n",
      "Item ID: 10200, Score: 0.7681 History index: 0, Text: Motorcycle Bomb Wounds 23 in Southern Thailand  BANGKOK (Reuters) - A bomb hidden in a motorcycle wounded  at least 23 people in Thailand's mainly Muslim south on  Thursday, a day ahead of a visit to the restive region by Prime  Minister Thaksin Shinawatra.\n",
      "Item ID: 98496, Score: 0.7651 History index: 0, Text: Markets fall on weak dollar fears Asia has seen its key markets slide in response to the likelihood of a relentlessly weakening dollar.\n"
     ]
    }
   ],
   "source": [
    "pca_recommender.sample_weight = 10\n",
    "show_rec(pca_recommender, history, texts)"
   ]
  },
  {
   "cell_type": "markdown",
   "id": "ceb468d9",
   "metadata": {},
   "source": [
    "Less random"
   ]
  },
  {
   "cell_type": "code",
   "execution_count": 66,
   "id": "51899297",
   "metadata": {},
   "outputs": [
    {
     "name": "stdout",
     "output_type": "stream",
     "text": [
      "Found 60 recommendations for 5 history items\n",
      "(10, 5)\n",
      "Item ID: 68976, Score: 1.0000 History index: 1, Text: Virgin CEO says thousands are signing up to take flight into space LONDON Ever since two successful flights into space were made from the Mojave Desert, thousands of people are signing up to take the same trip.\n",
      "Item ID: 41108, Score: 1.0000 History index: 1, Text: Groundwork Laid for Spaceline LONDON-September 27, 2004 - A ticket may soon be all that separates you from a dream voyage to the final frontier. British entrepreneur Richard Branson says Virgin company plans to start offering commercial space flights over the next few years.\n",
      "Item ID: 41618, Score: 1.0000 History index: 1, Text: Virgin #39;s next destination: space LONDON Richard Branson, the adventurous entrepreneur behind the Virgin Group, said Monday that he would form a commercial space travel company that would start carrying passengers by 2007.\n",
      "Item ID: 69364, Score: 1.0000 History index: 1, Text: 800M PLEDGED FOR VIRGIN BOSS #39;S SPACE TRIPS MORE than 800million has been pledged to Sir Richard Branson #39;s space travel adventure - - years before the ship has even been built.\n",
      "Item ID: 41463, Score: 0.9999 History index: 1, Text: Branson teams up with SpaceShipOne British airline tycoon Richard Branson said Monday he has cut a deal with a US rocket ship company to take paying passengers into space.\n",
      "Item ID: 122650, Score: 0.9999 History index: 1, Text: Virgin to Launch Commercial Space Flights by 2007 SEPTEMBER 28, 2004 -- London -- The ultimate high-end incentive trip took another step closer to reality yesterday when Richard Branson, head of the Virgin Group, announced plans to launch commercial space flights by 2007.\n",
      "Item ID: 43185, Score: 0.9999 History index: 1, Text: Virgin Galactic launches space tourism Richard Branson, famed entrepreneur from Great Britain, has announced that he will launch the first passenger space service in 2007.\n",
      "Item ID: 42273, Score: 0.9999 History index: 1, Text: Wish you were atmosp-here Sir Richard Branson has kick-started a new space race, with plans to start tourist trips to the edge of the atmosphere. But are we ready for holidays at the final frontier?\n",
      "Item ID: 41688, Score: 0.9999 History index: 1, Text: Branson promises to send tourists into space by 2007 Seasobed Sir Richard Branson watchers could be forgiven for thinking there was nothing left on the planet to escape the red and white Virgin logo.\n",
      "Item ID: 71580, Score: 0.9994 History index: 2, Text: Four killed in Thai violence SECURITY forces fired shots in the air and used water cannons and tear gas to disperse about 2000 angry Muslim youths rioting in Thailand #39;s troubled south Monday, leaving at least four people dead and more than 20 injured, police said.\n"
     ]
    }
   ],
   "source": [
    "umap_recommender.sample_weight = 1.2\n",
    "show_rec(umap_recommender, history, texts)"
   ]
  },
  {
   "cell_type": "code",
   "execution_count": 67,
   "id": "5a83593f",
   "metadata": {},
   "outputs": [
    {
     "name": "stdout",
     "output_type": "stream",
     "text": [
      "Found 60 recommendations for 5 history items\n",
      "(10, 5)\n",
      "Item ID: 77308, Score: 0.9314 History index: 0, Text: Thai PM Says Will Punish 'Wrongdoers' Over Deaths  PATTANI, Thailand (Reuters) - Bomb blasts rocked southern  Thailand on Friday as Prime Minister Thaksin Shinawatra  promised to get to the bottom of the deaths of 78 Muslims in  military custody and punish any \"wrongdoers.\"\n",
      "Item ID: 98610, Score: 0.8993 History index: 0, Text: Golf: Delighted Woods demolishes field for first Japan tour win MIYAZAKI, Japan : Tiger Woods said he was on the way back to his world-beating best after demolishing the field at the Dunlop Phoenix golf tournament for his first title on the Japan tour.\n",
      "Item ID: 41653, Score: 0.8917 History index: 0, Text: Virgin to Offer Space Flights (Even, Sort of, at Discount) Sir Richard Branson, owner of the Virgin Group, announced on Monday that he would offer travelers the chance to go to the edge of space beginning in 2007, for \\$190,000 a ticket.\n",
      "Item ID: 77153, Score: 0.8742 History index: 0, Text: Thai PM to Address Nation as More Bombs Rock South  PATTANI, Thailand (Reuters) - Bomb blasts rocked southern  Thailand Friday as Prime Minister Thaksin Shinawatra told  southern Muslim leaders the deaths of 85 protesters in military  custody should have never happened.\n",
      "Item ID: 94903, Score: 0.8728 History index: 0, Text: Golf: Woods off to flying start in bid for first Japan tour win MIYAZAKI, Japan : American superstar Tiger Woods overcame rainy conditions to hit a five-under-par 65 for a three-stroke lead in the first round of the Dunlop Phoenix golf tournament.\n",
      "Item ID: 41238, Score: 0.8552 History index: 0, Text: Virgin to offer commercial space flights; expands into online &lt;b&gt;...&lt;/b&gt; LONDON, September 27 (newratings.com) - Virgin Group Limited, owned by the British billionaire entrepreneur Richard Branson, is planning to launch the world #39;s first passenger flight service to space in 2007, with seat prices starting at about \\$198,600.\n",
      "Item ID: 56539, Score: 0.8552 History index: 0, Text: Dollar Steadies After Fall on Jobs (Reuters) Reuters - The U.S. dollar settled near its lows\\against the yen and euro on Monday after suffering sharp losses\\on weaker-than expected job growth figures that raised\\questions about the need for further U.S. rate rises this year.\n",
      "Item ID: 80714, Score: 0.8512 History index: 0, Text: Revenge Attacks Feared Across Thailand BANGKOK, November 3 (IslamOnline.net  amp; News Agencies) - Amid mounting fears of spreading violence across Thailand over the killings of scores of Thai Muslims by security forces, a local Buddhist official was beheaded in what seems a revenge act for the \n",
      "Item ID: 11247, Score: 0.8390 History index: 0, Text: Bomb rocks market in violence-plagued southern Thailand A powerful bomb went off in Thailand #39;s Muslim-dominated deep south and seriously injured 20 people on Thursday morning, when the Thai Prime Minister Thaksin Shinawatra arrived in the violence-troubled region.\n",
      "Item ID: 89767, Score: 0.8375 History index: 0, Text: More Bombs Hit Thai Muslim South, One Dead More bombs hit Thailand #39;s largely Muslim south on Saturday, killing a shopper in a mainly Buddhist town and wounding 14 as Prime Minister Thaksin Shinawatra vowed to resolve the crisis.\n"
     ]
    }
   ],
   "source": [
    "pca_recommender.sample_weight = 1.2\n",
    "show_rec(pca_recommender, history, texts)"
   ]
  },
  {
   "cell_type": "markdown",
   "id": "08cfcc96",
   "metadata": {},
   "source": [
    "No randomness"
   ]
  },
  {
   "cell_type": "code",
   "execution_count": 68,
   "id": "92698bc1",
   "metadata": {},
   "outputs": [
    {
     "name": "stdout",
     "output_type": "stream",
     "text": [
      "Found 50 recommendations for 5 history items\n",
      "(10, 5)\n",
      "Item ID: 95909, Score: 0.9330 History index: 0, Text: Dollar Steadies, More Weakness Expected  SINGAPORE (Reuters) - The U.S. dollar paused near recent  lows Friday but dealers expected selling to resume after a  weekend meeting of G20 finance ministers, while stock investors  sought cover in companies immune to currency risks.\n",
      "Item ID: 77308, Score: 0.9314 History index: 0, Text: Thai PM Says Will Punish 'Wrongdoers' Over Deaths  PATTANI, Thailand (Reuters) - Bomb blasts rocked southern  Thailand on Friday as Prime Minister Thaksin Shinawatra  promised to get to the bottom of the deaths of 78 Muslims in  military custody and punish any \"wrongdoers.\"\n",
      "Item ID: 98610, Score: 0.8993 History index: 0, Text: Golf: Delighted Woods demolishes field for first Japan tour win MIYAZAKI, Japan : Tiger Woods said he was on the way back to his world-beating best after demolishing the field at the Dunlop Phoenix golf tournament for his first title on the Japan tour.\n",
      "Item ID: 41653, Score: 0.8917 History index: 0, Text: Virgin to Offer Space Flights (Even, Sort of, at Discount) Sir Richard Branson, owner of the Virgin Group, announced on Monday that he would offer travelers the chance to go to the edge of space beginning in 2007, for \\$190,000 a ticket.\n",
      "Item ID: 77153, Score: 0.8742 History index: 0, Text: Thai PM to Address Nation as More Bombs Rock South  PATTANI, Thailand (Reuters) - Bomb blasts rocked southern  Thailand Friday as Prime Minister Thaksin Shinawatra told  southern Muslim leaders the deaths of 85 protesters in military  custody should have never happened.\n",
      "Item ID: 94903, Score: 0.8728 History index: 0, Text: Golf: Woods off to flying start in bid for first Japan tour win MIYAZAKI, Japan : American superstar Tiger Woods overcame rainy conditions to hit a five-under-par 65 for a three-stroke lead in the first round of the Dunlop Phoenix golf tournament.\n",
      "Item ID: 41238, Score: 0.8552 History index: 0, Text: Virgin to offer commercial space flights; expands into online &lt;b&gt;...&lt;/b&gt; LONDON, September 27 (newratings.com) - Virgin Group Limited, owned by the British billionaire entrepreneur Richard Branson, is planning to launch the world #39;s first passenger flight service to space in 2007, with seat prices starting at about \\$198,600.\n",
      "Item ID: 56539, Score: 0.8552 History index: 0, Text: Dollar Steadies After Fall on Jobs (Reuters) Reuters - The U.S. dollar settled near its lows\\against the yen and euro on Monday after suffering sharp losses\\on weaker-than expected job growth figures that raised\\questions about the need for further U.S. rate rises this year.\n",
      "Item ID: 80714, Score: 0.8512 History index: 0, Text: Revenge Attacks Feared Across Thailand BANGKOK, November 3 (IslamOnline.net  amp; News Agencies) - Amid mounting fears of spreading violence across Thailand over the killings of scores of Thai Muslims by security forces, a local Buddhist official was beheaded in what seems a revenge act for the \n",
      "Item ID: 122575, Score: 0.8445 History index: 0, Text: Now Virgin to offer trips to space LONDON, England -- British entrepreneur Richard Branson announced his company has signed a deal to offer the world #39;s first commercial flights to space under the branding  quot;Virgin Galactic.\n"
     ]
    }
   ],
   "source": [
    "pca_recommender.sample_weight = 1\n",
    "show_rec(pca_recommender, history, texts)"
   ]
  },
  {
   "cell_type": "code",
   "execution_count": 69,
   "id": "3caf3dcb",
   "metadata": {},
   "outputs": [
    {
     "name": "stdout",
     "output_type": "stream",
     "text": [
      "Found 50 recommendations for 5 history items\n",
      "(10, 5)\n",
      "Item ID: 95909, Score: 0.9330 History index: 0, Text: Dollar Steadies, More Weakness Expected  SINGAPORE (Reuters) - The U.S. dollar paused near recent  lows Friday but dealers expected selling to resume after a  weekend meeting of G20 finance ministers, while stock investors  sought cover in companies immune to currency risks.\n",
      "Item ID: 77308, Score: 0.9314 History index: 0, Text: Thai PM Says Will Punish 'Wrongdoers' Over Deaths  PATTANI, Thailand (Reuters) - Bomb blasts rocked southern  Thailand on Friday as Prime Minister Thaksin Shinawatra  promised to get to the bottom of the deaths of 78 Muslims in  military custody and punish any \"wrongdoers.\"\n",
      "Item ID: 98610, Score: 0.8993 History index: 0, Text: Golf: Delighted Woods demolishes field for first Japan tour win MIYAZAKI, Japan : Tiger Woods said he was on the way back to his world-beating best after demolishing the field at the Dunlop Phoenix golf tournament for his first title on the Japan tour.\n",
      "Item ID: 41653, Score: 0.8917 History index: 0, Text: Virgin to Offer Space Flights (Even, Sort of, at Discount) Sir Richard Branson, owner of the Virgin Group, announced on Monday that he would offer travelers the chance to go to the edge of space beginning in 2007, for \\$190,000 a ticket.\n",
      "Item ID: 77153, Score: 0.8742 History index: 0, Text: Thai PM to Address Nation as More Bombs Rock South  PATTANI, Thailand (Reuters) - Bomb blasts rocked southern  Thailand Friday as Prime Minister Thaksin Shinawatra told  southern Muslim leaders the deaths of 85 protesters in military  custody should have never happened.\n",
      "Item ID: 94903, Score: 0.8728 History index: 0, Text: Golf: Woods off to flying start in bid for first Japan tour win MIYAZAKI, Japan : American superstar Tiger Woods overcame rainy conditions to hit a five-under-par 65 for a three-stroke lead in the first round of the Dunlop Phoenix golf tournament.\n",
      "Item ID: 41238, Score: 0.8552 History index: 0, Text: Virgin to offer commercial space flights; expands into online &lt;b&gt;...&lt;/b&gt; LONDON, September 27 (newratings.com) - Virgin Group Limited, owned by the British billionaire entrepreneur Richard Branson, is planning to launch the world #39;s first passenger flight service to space in 2007, with seat prices starting at about \\$198,600.\n",
      "Item ID: 56539, Score: 0.8552 History index: 0, Text: Dollar Steadies After Fall on Jobs (Reuters) Reuters - The U.S. dollar settled near its lows\\against the yen and euro on Monday after suffering sharp losses\\on weaker-than expected job growth figures that raised\\questions about the need for further U.S. rate rises this year.\n",
      "Item ID: 80714, Score: 0.8512 History index: 0, Text: Revenge Attacks Feared Across Thailand BANGKOK, November 3 (IslamOnline.net  amp; News Agencies) - Amid mounting fears of spreading violence across Thailand over the killings of scores of Thai Muslims by security forces, a local Buddhist official was beheaded in what seems a revenge act for the \n",
      "Item ID: 122575, Score: 0.8445 History index: 0, Text: Now Virgin to offer trips to space LONDON, England -- British entrepreneur Richard Branson announced his company has signed a deal to offer the world #39;s first commercial flights to space under the branding  quot;Virgin Galactic.\n"
     ]
    }
   ],
   "source": [
    "pca_recommender.sample_weight = 1\n",
    "show_rec(pca_recommender, history, texts)"
   ]
  },
  {
   "cell_type": "code",
   "execution_count": 70,
   "id": "65d28175",
   "metadata": {},
   "outputs": [
    {
     "name": "stdout",
     "output_type": "stream",
     "text": [
      "Found 20 recommendations for 2 history items\n",
      "(10, 2)\n",
      "Item ID: 19907, Score: 0.8296 History index: 1, Text: Games With Get Up and Go  Video gaming has long suffered a reputation for creating sedentary and solitary zombies, pasty and pudgy except for their muscular thumbs. A growing number of games, however, are getting gamers off their couches and on their feet, not only shouting, gyrating, singing and dancing, but sometimes -- gasp! -- playing nicely with others, face-to-face, in groups.\n",
      "Item ID: 104134, Score: 0.7992 History index: 1, Text: Video Games Teach More Than Hand-Eye Coordination  WASHINGTON (Reuters) - Video games, often maligned as  having little or no redeeming value, are becoming a way for  firefighters, soldiers, currency traders and college  administrators to hone their skills.\n",
      "Item ID: 76572, Score: 0.7835 History index: 1, Text: How computer games grew up THEY USED TO be for kids. Space Invaders, Pong, Doom, some of them were shoot-em-up fun, others were just, well, fun. But computer games have changed.\n",
      "Item ID: 99703, Score: 0.7802 History index: 1, Text: Computer game in which players shoot at JFK goes too far Three years ago, the city lost its legal battle to remove violent video games from public arcades in Indianapolis. As defeats go, this one was in some respects a crusher.\n",
      "Item ID: 16671, Score: 0.7602 History index: 1, Text: Women take a shine to video games The makers of video games need acknowledge that women like to buy and play games, says a study.\n",
      "Item ID: 6345, Score: 0.7536 History index: 1, Text: Smart little suckers A new generation of robotic vacuums is ready to do battle with dirt, dust and dog hair with more cleaning power and cunning than their ancestors could muster.\n",
      "Item ID: 103096, Score: 0.7474 History index: 1, Text: The games kids play today are too violent No wonder people love computer and video games. They #39;re realistic, fast-paced, interactive and challenging. Just about any age can play.\n",
      "Item ID: 115083, Score: 0.7381 History index: 1, Text: Game makers make play for adults The name of this game is who can capture the most adult gamers. Heading into the year-end shopping season, Sony Computer Entertainment Inc.\n",
      "Item ID: 96133, Score: 0.7378 History index: 1, Text: Nintendo DS a Sleek Powerhouse The last time Nintendo Co. tried two screens, the result was a head-splitting virtual reality goggle called Virtual Boy that quickly flopped in the mid-1990s.\n",
      "Item ID: 97571, Score: 0.7319 History index: 1, Text: Life is good Once upon a time, first-person shooter games had about as much plot and character development as a porn flick. Your digital hero just ran around and pumped hot lead into demons or aliens or Nazis, much like the porn hero .\n"
     ]
    },
    {
     "name": "stderr",
     "output_type": "stream",
     "text": [
      "/Users/mohammedalageel/projects/text-recommendation/.venv/lib/python3.11/site-packages/torch/nn/modules/module.py:1762: FutureWarning: `encoder_attention_mask` is deprecated and will be removed in version 4.55.0 for `BertSdpaSelfAttention.forward`.\n",
      "  return forward_call(*args, **kwargs)\n",
      "/Users/mohammedalageel/projects/text-recommendation/.venv/lib/python3.11/site-packages/torch/nn/modules/module.py:1762: FutureWarning: `encoder_attention_mask` is deprecated and will be removed in version 4.55.0 for `BertSdpaSelfAttention.forward`.\n",
      "  return forward_call(*args, **kwargs)\n"
     ]
    }
   ],
   "source": [
    "pca_recommender.get_history_embeddings = lambda ids: pca_model.transform(embedder.encode([\"robots\", \"gaming\"]))\n",
    "show_rec(pca_recommender, [], texts)\n",
    "pca_recommender.get_history_embeddings = lambda ids: pca_embeddings[ids]"
   ]
  },
  {
   "cell_type": "code",
   "execution_count": 71,
   "id": "54911d4b",
   "metadata": {},
   "outputs": [
    {
     "name": "stdout",
     "output_type": "stream",
     "text": [
      "Found 24 recommendations for 2 history items\n",
      "(10, 2)\n",
      "Item ID: 30755, Score: 0.9995 History index: 0, Text: They #39;re robots? Those beasts! NAHANT, Mass.--Joseph Ayers was crouched over a laptop in a cool cinder block shed barely big enough to house a ride-on lawn mower, watching a boxy-shelled black lobster through a rectangular acrylic window.\n",
      "Item ID: 6345, Score: 0.9994 History index: 0, Text: Smart little suckers A new generation of robotic vacuums is ready to do battle with dirt, dust and dog hair with more cleaning power and cunning than their ancestors could muster.\n",
      "Item ID: 87818, Score: 0.9993 History index: 0, Text: Robot Is Pivotal Member of the Force The youngest, smallest member of the Virginia State Police bomb squad can fearlessly pick up an unidentified bomb, walk into a tense hostage situation and hand a cell phone to a gunman. And he requires no food, water, insurance benefits or sleep.\n",
      "Item ID: 100710, Score: 0.9993 History index: 1, Text: Video Game Report Card Helps Parents Goal is to assist moms and dads in buying family-friendly entertainment for their kids. Video games are a popular item on the Christmas wish lists of kids, which \n",
      "Item ID: 67924, Score: 0.9992 History index: 0, Text: Robo-vacuum wins wall-to-wall praise at confab Robot fans cheer news that the \"Roomba\" has sucked up its 1 millionth buyer--a 'bot breakthrough,' they say.\n",
      "Item ID: 200, Score: 0.9992 History index: 1, Text: Video games 'good for children' Computer games can promote problem-solving and team-building in children, say games industry experts.\n",
      "Item ID: 72029, Score: 0.9991 History index: 0, Text: Robots Compete for Your Interest Robonexus Expo, which wrapped up over the weekend in Santa Clara, California, offered the requisite look at commercial robotics, robot parts and accessories, small-market redistributors, and research and experimental robots, but the overall theme and most \n",
      "Item ID: 76572, Score: 0.9990 History index: 1, Text: How computer games grew up THEY USED TO be for kids. Space Invaders, Pong, Doom, some of them were shoot-em-up fun, others were just, well, fun. But computer games have changed.\n",
      "Item ID: 9726, Score: 0.9990 History index: 0, Text: Second Career for Old Robot: Art A German art group reprograms old assembly-line robots to become autonomous artists. The machines draw, spin tunes and dance in public. The group wants to show that the industrial beasts can create beauty. By David Cohn.\n",
      "Item ID: 76680, Score: 0.9990 History index: 1, Text: Weaned on Video Games Video gamers are getting younger and younger. And parents and the video game industry agree that the implications are likely to be huge.\n"
     ]
    },
    {
     "name": "stderr",
     "output_type": "stream",
     "text": [
      "/Users/mohammedalageel/projects/text-recommendation/.venv/lib/python3.11/site-packages/torch/nn/modules/module.py:1762: FutureWarning: `encoder_attention_mask` is deprecated and will be removed in version 4.55.0 for `BertSdpaSelfAttention.forward`.\n",
      "  return forward_call(*args, **kwargs)\n",
      "/Users/mohammedalageel/projects/text-recommendation/.venv/lib/python3.11/site-packages/torch/nn/modules/module.py:1762: FutureWarning: `encoder_attention_mask` is deprecated and will be removed in version 4.55.0 for `BertSdpaSelfAttention.forward`.\n",
      "  return forward_call(*args, **kwargs)\n"
     ]
    }
   ],
   "source": [
    "umap_recommender.get_history_embeddings = lambda ids: umap_model.transform(embedder.encode([\"robots\", \"gaming\"]))\n",
    "show_rec(umap_recommender, [], texts)\n",
    "umap_recommender.get_history_embeddings = lambda ids: umap_embeddings[ids]"
   ]
  },
  {
   "cell_type": "code",
   "execution_count": null,
   "id": "6d078f53",
   "metadata": {},
   "outputs": [],
   "source": []
  }
 ],
 "metadata": {
  "kernelspec": {
   "display_name": ".venv",
   "language": "python",
   "name": "python3"
  },
  "language_info": {
   "codemirror_mode": {
    "name": "ipython",
    "version": 3
   },
   "file_extension": ".py",
   "mimetype": "text/x-python",
   "name": "python",
   "nbconvert_exporter": "python",
   "pygments_lexer": "ipython3",
   "version": "3.11.13"
  }
 },
 "nbformat": 4,
 "nbformat_minor": 5
}
