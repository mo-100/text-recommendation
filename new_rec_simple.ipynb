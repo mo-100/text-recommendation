{
 "cells": [
  {
   "cell_type": "markdown",
   "id": "3aaadc4d",
   "metadata": {},
   "source": [
    "Import"
   ]
  },
  {
   "cell_type": "code",
   "execution_count": 1,
   "id": "cf8b9444",
   "metadata": {},
   "outputs": [
    {
     "name": "stderr",
     "output_type": "stream",
     "text": [
      "/Users/mohammedalageel/projects/text-recommendation/.venv/lib/python3.11/site-packages/tqdm/auto.py:21: TqdmWarning: IProgress not found. Please update jupyter and ipywidgets. See https://ipywidgets.readthedocs.io/en/stable/user_install.html\n",
      "  from .autonotebook import tqdm as notebook_tqdm\n"
     ]
    }
   ],
   "source": [
    "import random\n",
    "\n",
    "\n",
    "import numpy as np\n",
    "from sklearn.decomposition import PCA\n",
    "from sentence_transformers import SentenceTransformer\n",
    "from umap import UMAP\n",
    "from datasets import load_dataset\n",
    "\n",
    "import utils\n",
    "from models import EmbeddingRecommender, Index"
   ]
  },
  {
   "cell_type": "markdown",
   "id": "d9592ac2",
   "metadata": {},
   "source": [
    "Load Dataset"
   ]
  },
  {
   "cell_type": "code",
   "execution_count": 2,
   "id": "4b6792db",
   "metadata": {},
   "outputs": [
    {
     "data": {
      "text/plain": [
       "127600"
      ]
     },
     "execution_count": 2,
     "metadata": {},
     "output_type": "execute_result"
    }
   ],
   "source": [
    "ds = load_dataset(\"fancyzhx/ag_news\", split=\"all\")\n",
    "texts: list[str] = [ds[i][\"text\"] for i in range(len(ds))]\n",
    "len(texts)"
   ]
  },
  {
   "cell_type": "markdown",
   "id": "3877f5ac",
   "metadata": {},
   "source": [
    "Load Models and train them"
   ]
  },
  {
   "cell_type": "code",
   "execution_count": 3,
   "id": "597f9bc6",
   "metadata": {},
   "outputs": [
    {
     "name": "stderr",
     "output_type": "stream",
     "text": [
      "Batches:   0%|          | 0/3988 [00:00<?, ?it/s]/Users/mohammedalageel/projects/text-recommendation/.venv/lib/python3.11/site-packages/torch/nn/modules/module.py:1762: FutureWarning: `encoder_attention_mask` is deprecated and will be removed in version 4.55.0 for `BertSdpaSelfAttention.forward`.\n",
      "  return forward_call(*args, **kwargs)\n",
      "Batches: 100%|██████████| 3988/3988 [02:09<00:00, 30.80it/s]\n"
     ]
    }
   ],
   "source": [
    "embedder = SentenceTransformer(\"all-MiniLM-L6-v2\")\n",
    "embeddings: np.ndarray = embedder.encode(texts, show_progress_bar=True)"
   ]
  },
  {
   "cell_type": "code",
   "execution_count": 4,
   "id": "9abd8f4d",
   "metadata": {},
   "outputs": [
    {
     "name": "stderr",
     "output_type": "stream",
     "text": [
      "/Users/mohammedalageel/projects/text-recommendation/.venv/lib/python3.11/site-packages/umap/umap_.py:1952: UserWarning: n_jobs value 1 overridden to 1 by setting random_state. Use no seed for parallelism.\n",
      "  warn(\n"
     ]
    }
   ],
   "source": [
    "umap_model = UMAP(n_components=50, random_state=42, n_neighbors=15, min_dist=0.1, metric=\"euclidean\", low_memory=False)\n",
    "umap_embeddings: np.ndarray = umap_model.fit_transform(embeddings)"
   ]
  },
  {
   "cell_type": "code",
   "execution_count": 5,
   "id": "44732606",
   "metadata": {},
   "outputs": [],
   "source": [
    "pca_model = PCA(n_components=50, random_state=42)\n",
    "pca_embeddings: np.ndarray = pca_model.fit_transform(embeddings)"
   ]
  },
  {
   "cell_type": "markdown",
   "id": "6c9002e1",
   "metadata": {},
   "source": [
    "Indexing"
   ]
  },
  {
   "cell_type": "code",
   "execution_count": 6,
   "id": "7027a568",
   "metadata": {},
   "outputs": [],
   "source": [
    "umap_index = Index(umap_embeddings, space=\"l2\", ef=200)\n",
    "pca_index = Index(pca_embeddings, space=\"cosine\", ef=200)"
   ]
  },
  {
   "cell_type": "code",
   "execution_count": 7,
   "id": "b34b3be4",
   "metadata": {},
   "outputs": [],
   "source": [
    "umap_recommender = EmbeddingRecommender(\n",
    "    umap_index,\n",
    "    lambda ids: umap_embeddings[ids],\n",
    "    k=10,\n",
    "    sample_weight=1.0,\n",
    ")\n",
    "pca_recommender = EmbeddingRecommender(\n",
    "    pca_index,\n",
    "    lambda ids: pca_embeddings[ids],\n",
    "    k=10,\n",
    "    sample_weight=1.0,\n",
    ")\n",
    "# pca should be more general and umap more precise"
   ]
  },
  {
   "cell_type": "markdown",
   "id": "1dd6579c",
   "metadata": {},
   "source": [
    "Testing"
   ]
  },
  {
   "cell_type": "code",
   "execution_count": 9,
   "id": "ac1223ce",
   "metadata": {},
   "outputs": [],
   "source": [
    "def show_rec(recommender: EmbeddingRecommender, history_ids: list[int], texts: list[str]):\n",
    "    scores = recommender.recommend(history_ids)\n",
    "    scores = utils.skip_history(scores, history_ids)\n",
    "    if recommender.sample_weight > 1:\n",
    "        scores = utils.take_top_k(scores, k=int(recommender.k * recommender.sample_weight))\n",
    "        scores = utils.take_random(scores, k=recommender.k)\n",
    "    else:\n",
    "        scores = utils.take_top_k(scores, k=recommender.k)\n",
    "\n",
    "    for i, d in scores.items():\n",
    "        print(f\"Item ID: {i}, Score: {d:.4f}, Text: {texts[i]}\")\n",
    "        # show history most matching"
   ]
  },
  {
   "cell_type": "code",
   "execution_count": 25,
   "id": "930720b9",
   "metadata": {},
   "outputs": [
    {
     "name": "stdout",
     "output_type": "stream",
     "text": [
      "0: Lyon, Man U #39;s Ruud put on four-star shows Both Lyon and Manchester United #39;s Ruud van Nistelrooy struck four times in Group D of the Champions League on Wednesday as the French champions downed Fenerbahce 4-2 while the Dutch star #39;s goals saw United to a 4-1 victory over Sparta Prague.\n",
      "1: Some shareholders accept, others reject Oracle bid SAN FRANCISCO (CBS.MW) -- PeopleSoft #39;s board could be the target of another shareholder lawsuit over the anti-takeover measures it adopted to fend off a hostile bid from rival Oracle, according to a lawyer representing a group of PeopleSoft shareholders.\n",
      "2: Birds Not Being Killed by Wind Farms -Ecologist (Reuters) Reuters - Two major offshore wind farms in Denmark\\are giving the lie to fears that birds are being killed by\\flying into the huge vanes of such installations, a conference\\heard on Thursday.\n",
      "3: Stocks Seen Higher; Oil Prices Slipping  NEW YORK (Reuters) - U.S. stocks looked to open higher on  Friday, as the fourth quarter begins on Wall Street with oil  prices holding below \\$50 a barrel.\n",
      "4: India looking to extend lead India resume batting on third day of second Test against Australia in Chennai from the score of 291 for six. India has a lead of 56 runs, but they will be hoping to extend it on a pitch where batting last will be a huge challenge.\n"
     ]
    }
   ],
   "source": [
    "history = random.sample(range(len(texts)), k=5)\n",
    "history_texts = [texts[i] for i in history]\n",
    "for i, text in enumerate(history_texts):\n",
    "    print(f\"{i}: {text}\")"
   ]
  },
  {
   "cell_type": "markdown",
   "id": "d5c1f9b1",
   "metadata": {},
   "source": [
    "More random"
   ]
  },
  {
   "cell_type": "code",
   "execution_count": 26,
   "id": "7ed0cdf7",
   "metadata": {},
   "outputs": [
    {
     "name": "stdout",
     "output_type": "stream",
     "text": [
      "Found 500 recommendations for 5 history items\n",
      "Item ID: 107111, Score: 0.9953, Text: India rely on spin trick to clinch series win India relied on their spin trumpcard Harbhajan Singh #39;s guiles to clinch their first home series win in two years with a facile eight-wicket victory over South Africa in the second cricket Test here today.\n",
      "Item ID: 55756, Score: 0.9947, Text: Harbhajan is confident of repeat Indian comeback BANGALORE Off-spinner Harbhajan Singh is confident India will bounce back in the Test series against Australia as they did three years ago.\n",
      "Item ID: 73341, Score: 0.9933, Text: Martyn, Kartik, Khan set tone for thriller The off-field drama in a Test that has seen speculation rule over fact continued before the first ball was bowled on Tuesday. The first surprise came when Rahul Dravid walked out for the toss.\n",
      "Item ID: 44074, Score: 0.9935, Text: Dalmiya gets Pawar run out on last ball KOLKATA: Weeks of suspense, a final day packed with drama, and in the best potboiler tradition, it all boiled down to the last few moments.\n",
      "Item ID: 87654, Score: 0.9953, Text: PeopleSoft Directors Reject Oracle's Offer (washingtonpost.com) washingtonpost.com - The board of PeopleSoft Inc. yesterday rejected Oracle Corp.'s  #36;24-a-share hostile takeover bid as too cheap, but said it was open to a deal at a higher price.\n",
      "Item ID: 100138, Score: 0.9932, Text: Ntini spell sparks India collapse as test heads for draw (Reuters) Reuters - Fast bowler Makhaya Ntini grabbed three wickets to help bowl out India for 466 and give South Africa a 44-run first innings lead on the final day of the first test on Wednesday.\n",
      "Item ID: 2647, Score: 0.9947, Text: Stocks Set to Open Lower as Oil Hits High  NEW YORK (Reuters) - Stocks are set to open lower on  Wednesday after crude oil pushed to a fresh high overnight and  Google Inc. slashed its initial public offering price, which  appeared to dampen investor sentiment.\n",
      "Item ID: 28900, Score: 0.9927, Text: Ruud to the rescue for Man. U The high-scoring Dutchman scored twice in the second half of a Champions League match Wednesday to help the English powers rally back from a two-goal deficit and earn a 2-2 draw with French champions Olympique Lyon at Stade Municipal Gerland.\n",
      "Item ID: 95202, Score: 0.9913, Text: Van Nistelrooy hurts hip Manchester, England (Sports Network) - Manchester United striker Ruud van Nistelrooy picked up a hip injury while playing for Holland in a World Cup qualifier Wednesday.\n",
      "Item ID: 46446, Score: 0.9907, Text: Stocks Seen Up as Oil Dips; PeopleSoft Up  NEW YORK (Reuters) - U.S. stock futures rose steadily  throughout the morning, pointing to a higher market open on  Friday, as sliding oil prices were a welcome sign for investors  on the opening day of the fourth quarter.\n"
     ]
    }
   ],
   "source": [
    "umap_recommender.sample_weight = 10\n",
    "show_rec(umap_recommender, history, texts)"
   ]
  },
  {
   "cell_type": "code",
   "execution_count": 27,
   "id": "a440f2b0",
   "metadata": {},
   "outputs": [
    {
     "name": "stdout",
     "output_type": "stream",
     "text": [
      "Found 500 recommendations for 5 history items\n",
      "Item ID: 49032, Score: 0.9317, Text: Stocks Seen Higher as Oil Prices Ease  NEW YORK (Reuters) - U.S. stocks looked to open higher on  Monday, extending Friday's broad rally, as oil prices fall  below \\$50 a barrel on easing tensions in Nigeria.\n",
      "Item ID: 15639, Score: 0.8958, Text: Stocks Open Higher; Wall Street Cautious US stocks opened slightly higher on Tuesday as oil prices slipped with a lightly staffed Wall Street remaining cautious during the Republican party convention in New York amid heavy security and concerns of possible attacks.\n",
      "Item ID: 2814, Score: 0.8889, Text: Stocks Gain as Oil Ease from New High  NEW YORK (Reuters) - U.S. stocks were higher on  Wednesday  as investors bought beaten-down shares and oil prices eased  from the new 21-year record high hit earlier in the session.\n",
      "Item ID: 52069, Score: 0.8960, Text: Stocks Near Flat as Oil Tops \\$52  NEW YORK (Reuters) - U.S. stocks barely moved above the  unchanged mark on Wednesday as crude oil prices touched a  record over \\$52 per barrel, boosting oil stocks.\n",
      "Item ID: 42428, Score: 0.9367, Text: Stocks Open Higher, Shrug Off Oil Spike (Reuters) Reuters - U.S. stocks opened higher on Tuesday,\\with beaten down shares offering bargains to investors and oil\\producer stocks bolstered by crude oil prices breaking through\\the  #36;50 a barrel mark.\n",
      "Item ID: 64153, Score: 0.8893, Text: U.S. Stocks Gain as Oil Falls  NEW YORK (Reuters) - U.S. stocks closed higher on Monday  after a drop in oil prices eased worries about high energy  costs, although disappointing earnings from diversified  manufacturer 3M Co.&lt;A HREF=\"http://www.investor.reuters.com/FullQuote.aspx?ticker=MMM.N target=/stocks/quickinfo/fullquote\"&gt;MMM.N&lt;/A&gt; curbed gains on the blue-chip Dow.\n",
      "Item ID: 124673, Score: 0.9162, Text: Stocks Up as Oil Slides  NEW YORK (Reuters) - U.S. stocks jumped on Wednesday as oil  prices, which have held investor enthusiasm for stocks in check  for months, fell sharply after a higher-than-expected crude  build last week.\n",
      "Item ID: 49099, Score: 0.9236, Text: Wall Street Seen Rising; Oil Prices Ease  NEW YORK (Reuters) - U.S. stocks were set to open higher on  Monday, extending Friday's rally, with oil prices sliding and  investor sentiment improved as the flow of quarterly earnings  reports begins this week.\n",
      "Item ID: 46589, Score: 0.8955, Text: Stocks Move Higher As Oil Prices Dip NEW YORK - Stocks moved sharply higher Friday as oil prices dipped and a pair of upgrades in the semiconductor sector boosted technology shares.    Investors are closely watching oil prices, which topped \\$50 per barrel this week, hoping that consumer spending and sentiment, along with third-quarter earnings, would not be adversely affected by rising energy costs...\n",
      "Item ID: 51628, Score: 0.8998, Text: Stocks Set to Open Flat; Oil Prices Weigh  NEW YORK (Reuters) - U.S. stocks were set to open flat on  Wednesday as high crude oil prices and profit warnings weighed  on the market on the eve of a new earnings reporting season.\n"
     ]
    }
   ],
   "source": [
    "pca_recommender.sample_weight = 10\n",
    "show_rec(pca_recommender, history, texts)"
   ]
  },
  {
   "cell_type": "markdown",
   "id": "ceb468d9",
   "metadata": {},
   "source": [
    "Less random"
   ]
  },
  {
   "cell_type": "code",
   "execution_count": 28,
   "id": "51899297",
   "metadata": {},
   "outputs": [
    {
     "name": "stdout",
     "output_type": "stream",
     "text": [
      "Found 60 recommendations for 5 history items\n",
      "Item ID: 14583, Score: 0.9975, Text: Stocks Seen Sliding as Oil Moves Higher  NEW YORK (Reuters) - U.S. stocks are set to open lower on  Monday with oil prices pushing higher and Wall Street on edge  as the Republican National Convention gets underway in New York  amid heightened security concerns.\n",
      "Item ID: 87850, Score: 0.9975, Text: Oracle's 'best and final' offer rejected (USATODAY.com) USATODAY.com - PeopleSoft's board of directors rejected Oracle's  #36;9.2 billion takeover bid Wednesday, thrusting the business software maker's fate in the hands of its shareholders.\n",
      "Item ID: 97265, Score: 0.9984, Text: PeopleSoft Board Rejects Oracle Bid  SAN FRANCISCO (Reuters) - Business software maker  PeopleSoft Inc. on Saturday said its board again rejected  Oracle Corp.'s \\$9.2 billion tender offer, remaining defiant a  day after most of its shares were tendered to Oracle.\n",
      "Item ID: 97905, Score: 0.9976, Text: PeopleSoft's Board Rejects Oracle Bid PeopleSoft Inc.'s board of directors said it rejected Oracle Corp.'s \\$9.2 billion takeover bid Saturday, continuing its staunch resistance a day after the company's own shareholders tendered more than 60 percent of stock to Oracle.\n",
      "Item ID: 81106, Score: 0.9975, Text: Van Nistelrooy the four-goal hero The Manchester United boss said this week that if the Dutch hitman had four chances he would score with three of them. Well van Nistelrooy did have four chances against Sparta Prague in the Champions League last night .\n",
      "Item ID: 28865, Score: 0.9986, Text: Van Nistelrooy double saves United from defeat at Lyon Ruud van Nistelrooy struck twice in six minutes to salvage a 2-2 draw for Manchester United against Olympique Lyon in the Champions League on Wednesday and set a 30-goal European scoring record for his club.\n",
      "Item ID: 97505, Score: 0.9976, Text: PeopleSoft board rejects takeover bid by Oracle PLEASANTON, California - PeopleSoft Inc. #39;s board yesterday rejected Oracle Corp. #39;s \\$9.2 billion takeover bid, continuing its resistance after the company #39;s own shareholders tendered more than 60 percent of their stock to Oracle.\n",
      "Item ID: 50339, Score: 0.9990, Text: Stocks Seen Higher Despite Oil Price  NEW YORK (Reuters) -  U.S. stocks looked to open slightly  higher on Tuesday, despite oil prices above \\$50 a barrel, as  the market readies to extend its streak of gains in four of the  last five sessions.\n",
      "Item ID: 109652, Score: 0.9975, Text: Van Nistelrooy misses United #39;s last group game Ruud van Nistelrooy will miss Manchester United #39;s last Champions League Group D game away to Fenerbahce on Wednesday because of a calf injury, the Premier League club said.\n",
      "Item ID: 42354, Score: 0.9985, Text: Stocks Seen Higher; Oil Steady at \\$50 Bbl  NEW YORK (Reuters) - U.S. stocks looked to open higher on  Tuesday, with beaten down shares tempting investors and oil  producer stocks bolstered by crude oil prices breaking through  the \\$50 a barrel mark.\n"
     ]
    }
   ],
   "source": [
    "umap_recommender.sample_weight = 1.2\n",
    "show_rec(umap_recommender, history, texts)"
   ]
  },
  {
   "cell_type": "code",
   "execution_count": 29,
   "id": "5a83593f",
   "metadata": {},
   "outputs": [
    {
     "name": "stdout",
     "output_type": "stream",
     "text": [
      "Found 60 recommendations for 5 history items\n",
      "Item ID: 16376, Score: 0.9477, Text: Stocks Open Lower as Oil Climbs  NEW YORK (Reuters) - U.S. stocks opened lower on Wednesday  with oil prices rebounding on fresh supply disruptions and  investors cautious before Friday's jobs figures amid concerns  of possible attacks and disruptions to the Republican party's  convention in New York.\n",
      "Item ID: 46312, Score: 0.9566, Text: Stocks Seen Up; Oil Holds Below \\$50  NEW YORK (Reuters) - Stocks looked to open higher on Friday  with oil prices below \\$50 a barrel, while technology shares try  to extend a three-day winning streak of ending positive as the  fourth quarter begins on Wall Street.\n",
      "Item ID: 110066, Score: 0.9501, Text: Stocks Open Higher, Lower Oil Prices Help  NEW YORK (Reuters) - U.S. stocks opened higher on  Wednesday, a day after a sharp sell-off, as oil tumbled  further, easing concerns about the impact high crude prices  have on corporate profits and consumer spending.\n",
      "Item ID: 14583, Score: 0.9398, Text: Stocks Seen Sliding as Oil Moves Higher  NEW YORK (Reuters) - U.S. stocks are set to open lower on  Monday with oil prices pushing higher and Wall Street on edge  as the Republican National Convention gets underway in New York  amid heightened security concerns.\n",
      "Item ID: 20632, Score: 0.9397, Text: Stocks Open Higher as Oil Prices Retreat  NEW YORK (Reuters) - Stocks opened higher on Tuesday as oil  prices fell by nearly a dollar and several companies raised  quarterly profit forecasts amid a brighter mood on Wall Street  after a long holiday weekend.\n",
      "Item ID: 122680, Score: 0.9440, Text: Stocks Open Higher, Shrug Off Oil Spike  NEW YORK (Reuters) - U.S. stocks opened higher on Tuesday,  with beaten down shares offering bargains to investors and oil  producer stocks bolstered by crude oil prices breaking through  the \\$50 a barrel mark.\n",
      "Item ID: 105254, Score: 0.9386, Text: Stocks Open Lower; Oil Near \\$50 a Barrel  NEW YORK (Reuters) - U.S. stocks opened lower on Tuesday  with oil prices holding near \\$50 a barrel, while news that U.S.  gross domestic product grew at a stronger-than-expected pace in  the third quarter failed to create excitement on Wall Street.\n",
      "Item ID: 81567, Score: 0.9181, Text: Lyon, United make merry PARIS, Nov. 4. - Both Lyon and Manchester Uniteds Ruud van Nistelrooy struck four times in group D of the Champions League as the French champions downed Fenerbahce 4-2 while the Dutch stars goals \n",
      "Item ID: 40822, Score: 0.9495, Text: Stocks Seen Lower as Oil Pushes Higher  NEW YORK (Reuters) - U.S. stocks looked set to open lower  on Monday as oil prices approach record levels, fueling  concerns that high energy costs are biting into corporate  profits and consumer spending.\n",
      "Item ID: 50339, Score: 0.9643, Text: Stocks Seen Higher Despite Oil Price  NEW YORK (Reuters) -  U.S. stocks looked to open slightly  higher on Tuesday, despite oil prices above \\$50 a barrel, as  the market readies to extend its streak of gains in four of the  last five sessions.\n"
     ]
    }
   ],
   "source": [
    "pca_recommender.sample_weight = 1.2\n",
    "show_rec(pca_recommender, history, texts)"
   ]
  },
  {
   "cell_type": "markdown",
   "id": "08cfcc96",
   "metadata": {},
   "source": [
    "No randomness"
   ]
  },
  {
   "cell_type": "code",
   "execution_count": 30,
   "id": "92698bc1",
   "metadata": {},
   "outputs": [
    {
     "name": "stdout",
     "output_type": "stream",
     "text": [
      "Found 50 recommendations for 5 history items\n",
      "Item ID: 50339, Score: 0.9643, Text: Stocks Seen Higher Despite Oil Price  NEW YORK (Reuters) -  U.S. stocks looked to open slightly  higher on Tuesday, despite oil prices above \\$50 a barrel, as  the market readies to extend its streak of gains in four of the  last five sessions.\n",
      "Item ID: 46312, Score: 0.9566, Text: Stocks Seen Up; Oil Holds Below \\$50  NEW YORK (Reuters) - Stocks looked to open higher on Friday  with oil prices below \\$50 a barrel, while technology shares try  to extend a three-day winning streak of ending positive as the  fourth quarter begins on Wall Street.\n",
      "Item ID: 42354, Score: 0.9527, Text: Stocks Seen Higher; Oil Steady at \\$50 Bbl  NEW YORK (Reuters) - U.S. stocks looked to open higher on  Tuesday, with beaten down shares tempting investors and oil  producer stocks bolstered by crude oil prices breaking through  the \\$50 a barrel mark.\n",
      "Item ID: 110066, Score: 0.9501, Text: Stocks Open Higher, Lower Oil Prices Help  NEW YORK (Reuters) - U.S. stocks opened higher on  Wednesday, a day after a sharp sell-off, as oil tumbled  further, easing concerns about the impact high crude prices  have on corporate profits and consumer spending.\n",
      "Item ID: 40822, Score: 0.9495, Text: Stocks Seen Lower as Oil Pushes Higher  NEW YORK (Reuters) - U.S. stocks looked set to open lower  on Monday as oil prices approach record levels, fueling  concerns that high energy costs are biting into corporate  profits and consumer spending.\n",
      "Item ID: 16376, Score: 0.9477, Text: Stocks Open Lower as Oil Climbs  NEW YORK (Reuters) - U.S. stocks opened lower on Wednesday  with oil prices rebounding on fresh supply disruptions and  investors cautious before Friday's jobs figures amid concerns  of possible attacks and disruptions to the Republican party's  convention in New York.\n",
      "Item ID: 122680, Score: 0.9440, Text: Stocks Open Higher, Shrug Off Oil Spike  NEW YORK (Reuters) - U.S. stocks opened higher on Tuesday,  with beaten down shares offering bargains to investors and oil  producer stocks bolstered by crude oil prices breaking through  the \\$50 a barrel mark.\n",
      "Item ID: 46482, Score: 0.9403, Text: Stocks Open Higher as Oil Prices Ease  NEW YORK (Reuters) - U.S. stocks opened higher on Friday,  as oil prices retreated and tech stocks showed strength on the  opening day of the fourth quarter.\n",
      "Item ID: 14583, Score: 0.9398, Text: Stocks Seen Sliding as Oil Moves Higher  NEW YORK (Reuters) - U.S. stocks are set to open lower on  Monday with oil prices pushing higher and Wall Street on edge  as the Republican National Convention gets underway in New York  amid heightened security concerns.\n",
      "Item ID: 81567, Score: 0.9181, Text: Lyon, United make merry PARIS, Nov. 4. - Both Lyon and Manchester Uniteds Ruud van Nistelrooy struck four times in group D of the Champions League as the French champions downed Fenerbahce 4-2 while the Dutch stars goals \n"
     ]
    }
   ],
   "source": [
    "pca_recommender.sample_weight = 1\n",
    "show_rec(pca_recommender, history, texts)"
   ]
  },
  {
   "cell_type": "code",
   "execution_count": 31,
   "id": "3caf3dcb",
   "metadata": {},
   "outputs": [
    {
     "name": "stdout",
     "output_type": "stream",
     "text": [
      "Found 50 recommendations for 5 history items\n",
      "Item ID: 50339, Score: 0.9643, Text: Stocks Seen Higher Despite Oil Price  NEW YORK (Reuters) -  U.S. stocks looked to open slightly  higher on Tuesday, despite oil prices above \\$50 a barrel, as  the market readies to extend its streak of gains in four of the  last five sessions.\n",
      "Item ID: 46312, Score: 0.9566, Text: Stocks Seen Up; Oil Holds Below \\$50  NEW YORK (Reuters) - Stocks looked to open higher on Friday  with oil prices below \\$50 a barrel, while technology shares try  to extend a three-day winning streak of ending positive as the  fourth quarter begins on Wall Street.\n",
      "Item ID: 42354, Score: 0.9527, Text: Stocks Seen Higher; Oil Steady at \\$50 Bbl  NEW YORK (Reuters) - U.S. stocks looked to open higher on  Tuesday, with beaten down shares tempting investors and oil  producer stocks bolstered by crude oil prices breaking through  the \\$50 a barrel mark.\n",
      "Item ID: 110066, Score: 0.9501, Text: Stocks Open Higher, Lower Oil Prices Help  NEW YORK (Reuters) - U.S. stocks opened higher on  Wednesday, a day after a sharp sell-off, as oil tumbled  further, easing concerns about the impact high crude prices  have on corporate profits and consumer spending.\n",
      "Item ID: 40822, Score: 0.9495, Text: Stocks Seen Lower as Oil Pushes Higher  NEW YORK (Reuters) - U.S. stocks looked set to open lower  on Monday as oil prices approach record levels, fueling  concerns that high energy costs are biting into corporate  profits and consumer spending.\n",
      "Item ID: 16376, Score: 0.9477, Text: Stocks Open Lower as Oil Climbs  NEW YORK (Reuters) - U.S. stocks opened lower on Wednesday  with oil prices rebounding on fresh supply disruptions and  investors cautious before Friday's jobs figures amid concerns  of possible attacks and disruptions to the Republican party's  convention in New York.\n",
      "Item ID: 122680, Score: 0.9440, Text: Stocks Open Higher, Shrug Off Oil Spike  NEW YORK (Reuters) - U.S. stocks opened higher on Tuesday,  with beaten down shares offering bargains to investors and oil  producer stocks bolstered by crude oil prices breaking through  the \\$50 a barrel mark.\n",
      "Item ID: 46482, Score: 0.9403, Text: Stocks Open Higher as Oil Prices Ease  NEW YORK (Reuters) - U.S. stocks opened higher on Friday,  as oil prices retreated and tech stocks showed strength on the  opening day of the fourth quarter.\n",
      "Item ID: 14583, Score: 0.9398, Text: Stocks Seen Sliding as Oil Moves Higher  NEW YORK (Reuters) - U.S. stocks are set to open lower on  Monday with oil prices pushing higher and Wall Street on edge  as the Republican National Convention gets underway in New York  amid heightened security concerns.\n",
      "Item ID: 81567, Score: 0.9181, Text: Lyon, United make merry PARIS, Nov. 4. - Both Lyon and Manchester Uniteds Ruud van Nistelrooy struck four times in group D of the Champions League as the French champions downed Fenerbahce 4-2 while the Dutch stars goals \n"
     ]
    }
   ],
   "source": [
    "pca_recommender.sample_weight = 1\n",
    "show_rec(pca_recommender, history, texts)"
   ]
  },
  {
   "cell_type": "code",
   "execution_count": 32,
   "id": "65d28175",
   "metadata": {},
   "outputs": [
    {
     "name": "stdout",
     "output_type": "stream",
     "text": [
      "Found 20 recommendations for 2 history items\n",
      "Item ID: 19907, Score: 0.8296, Text: Games With Get Up and Go  Video gaming has long suffered a reputation for creating sedentary and solitary zombies, pasty and pudgy except for their muscular thumbs. A growing number of games, however, are getting gamers off their couches and on their feet, not only shouting, gyrating, singing and dancing, but sometimes -- gasp! -- playing nicely with others, face-to-face, in groups.\n",
      "Item ID: 104134, Score: 0.7992, Text: Video Games Teach More Than Hand-Eye Coordination  WASHINGTON (Reuters) - Video games, often maligned as  having little or no redeeming value, are becoming a way for  firefighters, soldiers, currency traders and college  administrators to hone their skills.\n",
      "Item ID: 76572, Score: 0.7835, Text: How computer games grew up THEY USED TO be for kids. Space Invaders, Pong, Doom, some of them were shoot-em-up fun, others were just, well, fun. But computer games have changed.\n",
      "Item ID: 99703, Score: 0.7802, Text: Computer game in which players shoot at JFK goes too far Three years ago, the city lost its legal battle to remove violent video games from public arcades in Indianapolis. As defeats go, this one was in some respects a crusher.\n",
      "Item ID: 16671, Score: 0.7602, Text: Women take a shine to video games The makers of video games need acknowledge that women like to buy and play games, says a study.\n",
      "Item ID: 6345, Score: 0.7536, Text: Smart little suckers A new generation of robotic vacuums is ready to do battle with dirt, dust and dog hair with more cleaning power and cunning than their ancestors could muster.\n",
      "Item ID: 103096, Score: 0.7474, Text: The games kids play today are too violent No wonder people love computer and video games. They #39;re realistic, fast-paced, interactive and challenging. Just about any age can play.\n",
      "Item ID: 115083, Score: 0.7381, Text: Game makers make play for adults The name of this game is who can capture the most adult gamers. Heading into the year-end shopping season, Sony Computer Entertainment Inc.\n",
      "Item ID: 96133, Score: 0.7378, Text: Nintendo DS a Sleek Powerhouse The last time Nintendo Co. tried two screens, the result was a head-splitting virtual reality goggle called Virtual Boy that quickly flopped in the mid-1990s.\n",
      "Item ID: 97571, Score: 0.7319, Text: Life is good Once upon a time, first-person shooter games had about as much plot and character development as a porn flick. Your digital hero just ran around and pumped hot lead into demons or aliens or Nazis, much like the porn hero .\n"
     ]
    },
    {
     "name": "stderr",
     "output_type": "stream",
     "text": [
      "/Users/mohammedalageel/projects/text-recommendation/.venv/lib/python3.11/site-packages/torch/nn/modules/module.py:1762: FutureWarning: `encoder_attention_mask` is deprecated and will be removed in version 4.55.0 for `BertSdpaSelfAttention.forward`.\n",
      "  return forward_call(*args, **kwargs)\n"
     ]
    }
   ],
   "source": [
    "pca_recommender.get_history_embeddings = lambda ids: pca_model.transform(embedder.encode([\"robots\", \"gaming\"]))\n",
    "show_rec(pca_recommender, [], texts)\n",
    "pca_recommender.get_history_embeddings = lambda ids: pca_embeddings[ids]"
   ]
  },
  {
   "cell_type": "code",
   "execution_count": 33,
   "id": "54911d4b",
   "metadata": {},
   "outputs": [
    {
     "name": "stdout",
     "output_type": "stream",
     "text": [
      "Found 24 recommendations for 2 history items\n",
      "Item ID: 72029, Score: 0.9991, Text: Robots Compete for Your Interest Robonexus Expo, which wrapped up over the weekend in Santa Clara, California, offered the requisite look at commercial robotics, robot parts and accessories, small-market redistributors, and research and experimental robots, but the overall theme and most \n",
      "Item ID: 200, Score: 0.9992, Text: Video games 'good for children' Computer games can promote problem-solving and team-building in children, say games industry experts.\n",
      "Item ID: 67924, Score: 0.9992, Text: Robo-vacuum wins wall-to-wall praise at confab Robot fans cheer news that the \"Roomba\" has sucked up its 1 millionth buyer--a 'bot breakthrough,' they say.\n",
      "Item ID: 76572, Score: 0.9990, Text: How computer games grew up THEY USED TO be for kids. Space Invaders, Pong, Doom, some of them were shoot-em-up fun, others were just, well, fun. But computer games have changed.\n",
      "Item ID: 87818, Score: 0.9993, Text: Robot Is Pivotal Member of the Force The youngest, smallest member of the Virginia State Police bomb squad can fearlessly pick up an unidentified bomb, walk into a tense hostage situation and hand a cell phone to a gunman. And he requires no food, water, insurance benefits or sleep.\n",
      "Item ID: 100710, Score: 0.9993, Text: Video Game Report Card Helps Parents Goal is to assist moms and dads in buying family-friendly entertainment for their kids. Video games are a popular item on the Christmas wish lists of kids, which \n",
      "Item ID: 9726, Score: 0.9990, Text: Second Career for Old Robot: Art A German art group reprograms old assembly-line robots to become autonomous artists. The machines draw, spin tunes and dance in public. The group wants to show that the industrial beasts can create beauty. By David Cohn.\n",
      "Item ID: 4022, Score: 0.9992, Text: Review: Robovacs No Match for Vacuum A new generation of robotic vacuums is ready to do battle with dirt, dust and dog hair with more cleaning power and cunning than their ancestors could muster. Faced with the usual obstacles - furniture, stairs, low-hanging bed skirts and stray socks - they intelligently and acrobatically extricate themselves from most tight spots and largely avoid getting stuck or sucking in what they shouldn't.\n",
      "Item ID: 76680, Score: 0.9990, Text: Weaned on Video Games Video gamers are getting younger and younger. And parents and the video game industry agree that the implications are likely to be huge.\n",
      "Item ID: 70954, Score: 0.9992, Text: iRobot readies for war--and the household Whether mopping up a battlefield or living room floor, the robot maker is working on vehicle to get the job done.\\\n"
     ]
    },
    {
     "name": "stderr",
     "output_type": "stream",
     "text": [
      "/Users/mohammedalageel/projects/text-recommendation/.venv/lib/python3.11/site-packages/torch/nn/modules/module.py:1762: FutureWarning: `encoder_attention_mask` is deprecated and will be removed in version 4.55.0 for `BertSdpaSelfAttention.forward`.\n",
      "  return forward_call(*args, **kwargs)\n"
     ]
    }
   ],
   "source": [
    "umap_recommender.get_history_embeddings = lambda ids: umap_model.transform(embedder.encode([\"robots\", \"gaming\"]))\n",
    "show_rec(umap_recommender, [], texts)\n",
    "umap_recommender.get_history_embeddings = lambda ids: umap_embeddings[ids]"
   ]
  },
  {
   "cell_type": "code",
   "execution_count": null,
   "id": "6d078f53",
   "metadata": {},
   "outputs": [],
   "source": []
  }
 ],
 "metadata": {
  "kernelspec": {
   "display_name": ".venv",
   "language": "python",
   "name": "python3"
  },
  "language_info": {
   "codemirror_mode": {
    "name": "ipython",
    "version": 3
   },
   "file_extension": ".py",
   "mimetype": "text/x-python",
   "name": "python",
   "nbconvert_exporter": "python",
   "pygments_lexer": "ipython3",
   "version": "3.11.13"
  }
 },
 "nbformat": 4,
 "nbformat_minor": 5
}
