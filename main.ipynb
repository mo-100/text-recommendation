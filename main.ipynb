{
 "cells": [
  {
   "cell_type": "markdown",
   "id": "3aaadc4d",
   "metadata": {},
   "source": [
    "# Importing libraries"
   ]
  },
  {
   "cell_type": "code",
   "execution_count": 7,
   "id": "cf8b9444",
   "metadata": {},
   "outputs": [],
   "source": [
    "import random\n",
    "from typing import Callable\n",
    "\n",
    "import numpy as np\n",
    "from sklearn.decomposition import PCA\n",
    "from sentence_transformers import SentenceTransformer\n",
    "from umap import UMAP\n",
    "from datasets import load_dataset\n",
    "\n",
    "import utils\n",
    "from protocols import Recommender\n",
    "from index import Index"
   ]
  },
  {
   "cell_type": "markdown",
   "id": "d9592ac2",
   "metadata": {},
   "source": [
    "# Loading the Dataset"
   ]
  },
  {
   "cell_type": "code",
   "execution_count": 2,
   "id": "4b6792db",
   "metadata": {},
   "outputs": [
    {
     "data": {
      "text/plain": [
       "127600"
      ]
     },
     "execution_count": 2,
     "metadata": {},
     "output_type": "execute_result"
    }
   ],
   "source": [
    "ds = load_dataset(\"fancyzhx/ag_news\", split=\"all\")\n",
    "texts: list[str] = [ds[i][\"text\"] for i in range(len(ds))]\n",
    "len(texts)"
   ]
  },
  {
   "cell_type": "markdown",
   "id": "3877f5ac",
   "metadata": {},
   "source": [
    "# Loading the Models and training them"
   ]
  },
  {
   "cell_type": "code",
   "execution_count": 3,
   "id": "597f9bc6",
   "metadata": {},
   "outputs": [
    {
     "name": "stderr",
     "output_type": "stream",
     "text": [
      "Batches:   0%|          | 0/3988 [00:00<?, ?it/s]/Users/mohammedalageel/projects/text-recommendation/.venv/lib/python3.11/site-packages/torch/nn/modules/module.py:1762: FutureWarning: `encoder_attention_mask` is deprecated and will be removed in version 4.55.0 for `BertSdpaSelfAttention.forward`.\n",
      "  return forward_call(*args, **kwargs)\n",
      "Batches: 100%|██████████| 3988/3988 [02:11<00:00, 30.29it/s]\n"
     ]
    }
   ],
   "source": [
    "embedder = SentenceTransformer(\"all-MiniLM-L6-v2\")\n",
    "embeddings: np.ndarray = embedder.encode(texts, show_progress_bar=True)"
   ]
  },
  {
   "cell_type": "code",
   "execution_count": 4,
   "id": "9abd8f4d",
   "metadata": {},
   "outputs": [
    {
     "name": "stderr",
     "output_type": "stream",
     "text": [
      "/Users/mohammedalageel/projects/text-recommendation/.venv/lib/python3.11/site-packages/umap/umap_.py:1952: UserWarning: n_jobs value 1 overridden to 1 by setting random_state. Use no seed for parallelism.\n",
      "  warn(\n"
     ]
    }
   ],
   "source": [
    "umap_model = UMAP(n_components=50, random_state=42, n_neighbors=15, min_dist=0.1, metric=\"euclidean\", low_memory=False)\n",
    "umap_embeddings: np.ndarray = umap_model.fit_transform(embeddings)"
   ]
  },
  {
   "cell_type": "code",
   "execution_count": 5,
   "id": "44732606",
   "metadata": {},
   "outputs": [],
   "source": [
    "pca_model = PCA(n_components=50, random_state=42)\n",
    "pca_embeddings: np.ndarray = pca_model.fit_transform(embeddings)"
   ]
  },
  {
   "cell_type": "markdown",
   "id": "6c9002e1",
   "metadata": {},
   "source": [
    "# Indexing"
   ]
  },
  {
   "cell_type": "code",
   "execution_count": 6,
   "id": "7027a568",
   "metadata": {},
   "outputs": [],
   "source": [
    "umap_index = Index(umap_embeddings, space=\"l2\", ef=200)\n",
    "pca_index = Index(pca_embeddings, space=\"cosine\", ef=200)"
   ]
  },
  {
   "cell_type": "markdown",
   "id": "e3338242",
   "metadata": {},
   "source": [
    "# Recommender implementation"
   ]
  },
  {
   "cell_type": "code",
   "execution_count": 8,
   "id": "03f81adb",
   "metadata": {},
   "outputs": [],
   "source": [
    "class EmbeddingRecommender:\n",
    "    def __init__(\n",
    "        self,\n",
    "        search_fn: Callable[[np.ndarray, int], dict[int, float]],\n",
    "        get_user_embeddings: Callable[[int], np.ndarray],\n",
    "        k: int,\n",
    "    ):\n",
    "        self.search_fn = search_fn\n",
    "        self.get_user_embeddings = get_user_embeddings\n",
    "        self.k = k\n",
    "\n",
    "    def recommend(self, user_id: int) -> dict[int, float]:\n",
    "        history_embeddings = self.get_user_embeddings(user_id)\n",
    "        scores = self.search_fn(history_embeddings, self.k)\n",
    "        print(f\"Found {len(scores)} recommendations for {len(history_embeddings)} history items\")\n",
    "        return scores"
   ]
  },
  {
   "cell_type": "markdown",
   "id": "24e5aaa3",
   "metadata": {},
   "source": [
    "# Helper functions"
   ]
  },
  {
   "cell_type": "code",
   "execution_count": 24,
   "id": "66d6a1b0",
   "metadata": {},
   "outputs": [],
   "source": [
    "def clean_scores(scores: dict[int, float], user_history: list[int], sample_weight: float, k: int):\n",
    "    scores = utils.skip_ids(scores, user_history)\n",
    "    if sample_weight > 1:\n",
    "        scores = utils.take_top_k(scores, k=int(k * sample_weight))\n",
    "        scores = utils.take_random(scores, k=k)\n",
    "    else:\n",
    "        scores = utils.take_top_k(scores, k=k)\n",
    "    return scores\n",
    "\n",
    "\n",
    "def show_recommendations(scores: dict[int, float], texts: list[str]):\n",
    "    indices, scorings = utils.unpack_scores(scores)\n",
    "    for i, (idx, scoring) in enumerate(zip(indices, scorings)):\n",
    "        print(f\"ID: {str(idx).zfill(6)}, Score: {scoring:.4f}, Text: {texts[idx]}\")\n",
    "\n",
    "\n",
    "def get_user_history_function(embeddings: np.ndarray, user_history: dict[int, list[int]]):\n",
    "    def get_history_embeddings(user_id: int) -> np.ndarray:\n",
    "        history_ids = user_history.get(user_id, [])\n",
    "        if not history_ids:\n",
    "            return np.empty((0, embeddings.shape[1]))\n",
    "        return embeddings[history_ids]\n",
    "\n",
    "    return get_history_embeddings"
   ]
  },
  {
   "cell_type": "markdown",
   "id": "455a5e32",
   "metadata": {},
   "source": [
    "# Recommendation engine"
   ]
  },
  {
   "cell_type": "code",
   "execution_count": 10,
   "id": "b34b3be4",
   "metadata": {},
   "outputs": [],
   "source": [
    "user_history = {}\n",
    "\n",
    "umap_recommender = EmbeddingRecommender(\n",
    "    umap_index.query,\n",
    "    get_user_history_function(umap_embeddings, user_history),\n",
    "    k=100,\n",
    ")\n",
    "pca_recommender = EmbeddingRecommender(\n",
    "    pca_index.query,\n",
    "    get_user_history_function(pca_embeddings, user_history),\n",
    "    k=100,\n",
    ")\n",
    "# pca should be more general and umap more precise"
   ]
  },
  {
   "cell_type": "code",
   "execution_count": 11,
   "id": "2c3c33a6",
   "metadata": {},
   "outputs": [],
   "source": [
    "def recommend_and_show(user_id: int, recommender: Recommender, sample_weight: float, k: int):\n",
    "    scores = recommender.recommend(user_id)\n",
    "    scores = clean_scores(scores, user_history.get(user_id, []), sample_weight, k)\n",
    "    show_recommendations(scores, texts)"
   ]
  },
  {
   "cell_type": "markdown",
   "id": "1dd6579c",
   "metadata": {},
   "source": [
    "Testing"
   ]
  },
  {
   "cell_type": "code",
   "execution_count": 25,
   "id": "930720b9",
   "metadata": {},
   "outputs": [
    {
     "name": "stdout",
     "output_type": "stream",
     "text": [
      "ID: 029048, Text: Labor pains April 1980 -- Players strike the last eight days of spring training. Ninety-two exhibition games are canceled. June 1981 -- Players stage first midseason strike in history.\n",
      "ID: 012482, Text: Pakistan Parliament Elects Prime Minister Pakistan #39;s parliament elected former finance minister Shaukat Aziz, a close ally of President Gen. Pervez Musharraf, as prime minister on Friday after the opposition \n",
      "ID: 030480, Text: Afghans Arrest Three for Rocket Attack on Karzai  KABUL, Afghanistan (Reuters) - Three men have been arrested  for trying to kill Afghan President Hamid Karzai by firing a  rocket at his helicopter during his first election campaign  trip outside the capital, officials said on Friday.\n",
      "ID: 107709, Text: UPDATE 2-Fifth Third balance sheet fix to cut profit Fifth Third Bancorp, the ninth largest US bank, on Thursday said fourth-quarter profit will fall well short of analyst forecasts, as it takes \\$340 million of \n",
      "ID: 011006, Text: Intel's Centrino connects with all Wi-Fi standards New component will help next generation of Intel's wireless chip reach full audience for Wi-Fi.\n"
     ]
    }
   ],
   "source": [
    "user_history[0] = random.sample(range(len(texts)), k=5)\n",
    "for i in user_history[0]:\n",
    "    print(f\"ID: {str(i).zfill(6)}, Text: {texts[i]}\")"
   ]
  },
  {
   "cell_type": "markdown",
   "id": "bd03627a",
   "metadata": {},
   "source": [
    "#### PCA"
   ]
  },
  {
   "cell_type": "markdown",
   "id": "d5c1f9b1",
   "metadata": {},
   "source": [
    "More random"
   ]
  },
  {
   "cell_type": "code",
   "execution_count": 26,
   "id": "a440f2b0",
   "metadata": {},
   "outputs": [
    {
     "name": "stdout",
     "output_type": "stream",
     "text": [
      "Found 500 recommendations for 5 history items\n",
      "ID: 012513, Score: 0.9103, Text: Musharraf ally elected as new Pakistan PM ISLAMABAD - Pakistan #39;s Parliament elected former Finance Minister Shaukat Aziz as Prime Minister yesterday amid an opposition boycott of the vote.\n",
      "ID: 072399, Score: 0.8629, Text: Intel to Join in a Project to Extend Wireless Use In an effort to create a global wireless alternative to cable and telephone Internet service, Intel said on Monday that it would collaborate with Clearwire, a wireless \n",
      "ID: 011448, Score: 0.8607, Text: Intel Adds Tri-mode (802.11a,b,g) Wireless Module Intel announced a new tri-mode wireless module (supporting IEEE standards 802.11a, b and g) for notebooks based on Intel Centrino mobile technology.\n",
      "ID: 012157, Score: 0.8483, Text: Pak. parliament elects Aziz as new PM : Opposition lawmakers boycotted a parliamentary vote on Friday that unanimously elected Shaukat Aziz as Pakistan #39;s new prime minister after their candidate, a jailed opposition leader, was barred from attending the proceedings.\n",
      "ID: 073015, Score: 0.8411, Text: Intel and Clearwire to work on WiMax together Intel will work with Clearwire, a wireless internet service provider, on future networks based on WiMax wireless broadband technology.\n",
      "ID: 062376, Score: 0.8375, Text: Three rockets fired in Afghan capital, at least one injured KABUL - Three rockets were fired in the Afghan capital Kabul late Saturday injuring at least one person in the latest of a string of attacks following landmark elections.\n",
      "ID: 009553, Score: 0.8247, Text: Intel Eyes Tri-Mode Wi-Fi (PC World) PC World - Upcoming chip set will support 802.11a, b, and g networks.\n",
      "ID: 011028, Score: 0.8194, Text: Intel Unveils Tri-Mode Centrino Intel Thursday unveiled tri-mode Centrino technology that will enable laptops to access WLANs based on the 802.11a, b and g specifications.\n",
      "ID: 013168, Score: 0.8083, Text: Musharraf Ally Sworn in As Pakistan PM Pakistan #39;s economic czar Shaukat Aziz was sworn in as prime minister Saturday and said his government #39;s greatest challenge would be combatting terrorism and maintaining law and order.\n",
      "ID: 012035, Score: 0.7959, Text: Aziz elected Pak PM amid boycott by Oppn President Pervez Musharraf #39;s loyalist Shaukat Aziz was elected as Pakistan #39;s Prime Minister in a National Assembly vote boycotted by the opposition in protest of the speaker #39; decision not to permit their jailed candidate Javed Hashmi to take part in the \n"
     ]
    }
   ],
   "source": [
    "recommend_and_show(0, pca_recommender, sample_weight=10, k=10)"
   ]
  },
  {
   "cell_type": "markdown",
   "id": "ceb468d9",
   "metadata": {},
   "source": [
    "Less random"
   ]
  },
  {
   "cell_type": "code",
   "execution_count": 27,
   "id": "5a83593f",
   "metadata": {},
   "outputs": [
    {
     "name": "stdout",
     "output_type": "stream",
     "text": [
      "Found 500 recommendations for 5 history items\n",
      "ID: 030486, Score: 0.9946, Text: Afghans Arrest Three for Rocket Attack on Karzai Three men have been arrested for trying to kill Afghan President Hamid Karzai by firing a rocket at his helicopter during his first election campaign trip outside the capital, officials said on Friday.\n",
      "ID: 011096, Score: 0.9890, Text: Centrino to connect with all Wi-Fi standards New component will help next generation of Intel's wireless chip technology reach full audience for Wi-Fi.\n",
      "ID: 030705, Score: 0.9370, Text: Suspects Arrested in Rocket Attack On Afghan President #39;s &lt;b&gt;...&lt;/b&gt; Afghan officials say they have arrested three suspects in connection with a rocket attack on a helicopter carrying President Hamid Karzai.\n",
      "ID: 011945, Score: 0.9355, Text: Pakistan elects new prime minister Pakistan #39;s National Assembly elected Shaukat Aziz as the nation #39;s new prime minister Friday. Aziz won 191 votes to none for rival candidate Javed Hashmi.\n",
      "ID: 012031, Score: 0.9352, Text: Intel gives Centrino chip a Wi-Fi boost The upgrade enables the chip to also connect to less common 802.11a and 802.11i versions of Wi-Fi. SAN FRANCISCO: Intel Corp. said it has upgraded the wireless networking capabilities of its Centrino line \n",
      "ID: 030603, Score: 0.9307, Text: Afghans Hold Taliban Suspects for Karzai Attack  KABUL (Reuters) - Three suspected Taliban members have been  arrested for trying to kill Afghan President Hamid Karzai by  firing a rocket at his helicopter during his first election  campaign trip outside Kabul, officials said on Friday.\n",
      "ID: 012552, Score: 0.9191, Text: Musharraf #39;s choice elected as new PM Pakistan #39;s parliament elected Shaukat Aziz as its new Prime Minister yesterday. President General Pervez Musharraf named Mr Aziz as his choice as head of government, after his relationship \n",
      "ID: 007958, Score: 0.9169, Text: Intel seen readying new Wi-Fi chips In a briefing later this week, Intel is expected to announce the availability of a \"tri-mode\" Wi-Fi chip that supports the 802.11b wireless standard and its speedier cousin, 802.11g -- as well as the less-used 802.11a.\n",
      "ID: 011371, Score: 0.9109, Text: Vote for Pakistan prime minister Pakistan's parliament is expected on Friday to vote for outgoing Finance Minister Shaukat Aziz as  prime minister.\n",
      "ID: 012513, Score: 0.9103, Text: Musharraf ally elected as new Pakistan PM ISLAMABAD - Pakistan #39;s Parliament elected former Finance Minister Shaukat Aziz as Prime Minister yesterday amid an opposition boycott of the vote.\n"
     ]
    }
   ],
   "source": [
    "recommend_and_show(0, pca_recommender, sample_weight=1.2, k=10)"
   ]
  },
  {
   "cell_type": "markdown",
   "id": "08cfcc96",
   "metadata": {},
   "source": [
    "No randomness"
   ]
  },
  {
   "cell_type": "code",
   "execution_count": 28,
   "id": "92698bc1",
   "metadata": {},
   "outputs": [
    {
     "name": "stdout",
     "output_type": "stream",
     "text": [
      "Found 500 recommendations for 5 history items\n",
      "ID: 030486, Score: 0.9946, Text: Afghans Arrest Three for Rocket Attack on Karzai Three men have been arrested for trying to kill Afghan President Hamid Karzai by firing a rocket at his helicopter during his first election campaign trip outside the capital, officials said on Friday.\n",
      "ID: 011096, Score: 0.9890, Text: Centrino to connect with all Wi-Fi standards New component will help next generation of Intel's wireless chip technology reach full audience for Wi-Fi.\n",
      "ID: 030705, Score: 0.9370, Text: Suspects Arrested in Rocket Attack On Afghan President #39;s &lt;b&gt;...&lt;/b&gt; Afghan officials say they have arrested three suspects in connection with a rocket attack on a helicopter carrying President Hamid Karzai.\n",
      "ID: 011945, Score: 0.9355, Text: Pakistan elects new prime minister Pakistan #39;s National Assembly elected Shaukat Aziz as the nation #39;s new prime minister Friday. Aziz won 191 votes to none for rival candidate Javed Hashmi.\n",
      "ID: 012031, Score: 0.9352, Text: Intel gives Centrino chip a Wi-Fi boost The upgrade enables the chip to also connect to less common 802.11a and 802.11i versions of Wi-Fi. SAN FRANCISCO: Intel Corp. said it has upgraded the wireless networking capabilities of its Centrino line \n",
      "ID: 030603, Score: 0.9307, Text: Afghans Hold Taliban Suspects for Karzai Attack  KABUL (Reuters) - Three suspected Taliban members have been  arrested for trying to kill Afghan President Hamid Karzai by  firing a rocket at his helicopter during his first election  campaign trip outside Kabul, officials said on Friday.\n",
      "ID: 012552, Score: 0.9191, Text: Musharraf #39;s choice elected as new PM Pakistan #39;s parliament elected Shaukat Aziz as its new Prime Minister yesterday. President General Pervez Musharraf named Mr Aziz as his choice as head of government, after his relationship \n",
      "ID: 007958, Score: 0.9169, Text: Intel seen readying new Wi-Fi chips In a briefing later this week, Intel is expected to announce the availability of a \"tri-mode\" Wi-Fi chip that supports the 802.11b wireless standard and its speedier cousin, 802.11g -- as well as the less-used 802.11a.\n",
      "ID: 011371, Score: 0.9109, Text: Vote for Pakistan prime minister Pakistan's parliament is expected on Friday to vote for outgoing Finance Minister Shaukat Aziz as  prime minister.\n",
      "ID: 008688, Score: 0.9109, Text: Intel Seen Readying New Wi-Fi Chips Intel Corp. this week is\\expected to introduce a chip that adds support for a relatively\\obscure version of Wi-Fi, analysts said on Monday, in a move\\that could help ease congestion on wireless networks.\n"
     ]
    }
   ],
   "source": [
    "recommend_and_show(0, pca_recommender, sample_weight=1, k=10)"
   ]
  },
  {
   "cell_type": "markdown",
   "id": "9e3ae55a",
   "metadata": {},
   "source": [
    "Custom input"
   ]
  },
  {
   "cell_type": "code",
   "execution_count": 29,
   "id": "65d28175",
   "metadata": {},
   "outputs": [
    {
     "name": "stdout",
     "output_type": "stream",
     "text": [
      "Found 200 recommendations for 2 history items\n",
      "ID: 019907, Score: 0.8296, Text: Games With Get Up and Go  Video gaming has long suffered a reputation for creating sedentary and solitary zombies, pasty and pudgy except for their muscular thumbs. A growing number of games, however, are getting gamers off their couches and on their feet, not only shouting, gyrating, singing and dancing, but sometimes -- gasp! -- playing nicely with others, face-to-face, in groups.\n",
      "ID: 104134, Score: 0.7992, Text: Video Games Teach More Than Hand-Eye Coordination  WASHINGTON (Reuters) - Video games, often maligned as  having little or no redeeming value, are becoming a way for  firefighters, soldiers, currency traders and college  administrators to hone their skills.\n",
      "ID: 076572, Score: 0.7835, Text: How computer games grew up THEY USED TO be for kids. Space Invaders, Pong, Doom, some of them were shoot-em-up fun, others were just, well, fun. But computer games have changed.\n",
      "ID: 099703, Score: 0.7802, Text: Computer game in which players shoot at JFK goes too far Three years ago, the city lost its legal battle to remove violent video games from public arcades in Indianapolis. As defeats go, this one was in some respects a crusher.\n",
      "ID: 016671, Score: 0.7602, Text: Women take a shine to video games The makers of video games need acknowledge that women like to buy and play games, says a study.\n",
      "ID: 006345, Score: 0.7536, Text: Smart little suckers A new generation of robotic vacuums is ready to do battle with dirt, dust and dog hair with more cleaning power and cunning than their ancestors could muster.\n",
      "ID: 103096, Score: 0.7474, Text: The games kids play today are too violent No wonder people love computer and video games. They #39;re realistic, fast-paced, interactive and challenging. Just about any age can play.\n",
      "ID: 115083, Score: 0.7381, Text: Game makers make play for adults The name of this game is who can capture the most adult gamers. Heading into the year-end shopping season, Sony Computer Entertainment Inc.\n",
      "ID: 096133, Score: 0.7378, Text: Nintendo DS a Sleek Powerhouse The last time Nintendo Co. tried two screens, the result was a head-splitting virtual reality goggle called Virtual Boy that quickly flopped in the mid-1990s.\n",
      "ID: 097571, Score: 0.7319, Text: Life is good Once upon a time, first-person shooter games had about as much plot and character development as a porn flick. Your digital hero just ran around and pumped hot lead into demons or aliens or Nazis, much like the porn hero .\n"
     ]
    },
    {
     "name": "stderr",
     "output_type": "stream",
     "text": [
      "/Users/mohammedalageel/projects/text-recommendation/.venv/lib/python3.11/site-packages/torch/nn/modules/module.py:1762: FutureWarning: `encoder_attention_mask` is deprecated and will be removed in version 4.55.0 for `BertSdpaSelfAttention.forward`.\n",
      "  return forward_call(*args, **kwargs)\n"
     ]
    }
   ],
   "source": [
    "old_function = pca_recommender.get_user_embeddings\n",
    "pca_recommender.get_user_embeddings = lambda _: pca_model.transform(embedder.encode([\"robots\", \"gaming\"]))\n",
    "\n",
    "recommend_and_show(0, pca_recommender, sample_weight=1, k=10)\n",
    "\n",
    "pca_recommender.get_user_embeddings = old_function"
   ]
  },
  {
   "cell_type": "markdown",
   "id": "3f36e573",
   "metadata": {},
   "source": [
    "### UMAP"
   ]
  },
  {
   "cell_type": "code",
   "execution_count": 30,
   "id": "7ed0cdf7",
   "metadata": {},
   "outputs": [
    {
     "name": "stdout",
     "output_type": "stream",
     "text": [
      "Found 500 recommendations for 5 history items\n",
      "ID: 010870, Score: 1.0000, Text: Intel Gives Centrino Chip Line a Wireless Upgrade Intel Corp. (INTC.O: Quote, Profile, Research) on Thursday said it has upgraded the wireless networking capabilities of its Centrino line of notebook computer chips to allow broader network access with improved security.\n",
      "ID: 120645, Score: 0.9999, Text: Intel Gives Centrino Chip Line a Wireless Upgrade (Reuters) Reuters - Intel Corp. (INTC.O) on Thursday\\said it has upgraded the wireless networking capabilities of\\its Centrino line of notebook computer chips to allow broader\\network access with improved security.\n",
      "ID: 014724, Score: 0.9999, Text: Intel updates Centrino wireless chips, software Intel Corp. unveiled an update to its wireless networking technology Thursday, adding simpler software, improved security and support for a more robust, less interference-prone radio standard.\n",
      "ID: 011089, Score: 0.9999, Text: Centrino to connect with all Wi-Fi standards Intel on Thursday announced a component that #39;s compatible with all Wi-Fi standards, which will let the chipmaker reach the full audience of individuals who want to wirelessly connect to local area networks.\n",
      "ID: 012031, Score: 0.9999, Text: Intel gives Centrino chip a Wi-Fi boost The upgrade enables the chip to also connect to less common 802.11a and 802.11i versions of Wi-Fi. SAN FRANCISCO: Intel Corp. said it has upgraded the wireless networking capabilities of its Centrino line \n",
      "ID: 013033, Score: 0.9998, Text: Musharraf ally wins prime minister vote Pakistan's parliament elected former finance minister Shaukat Aziz, a close ally of President Pervez Musharraf, as prime minister yesterday after the opposition boycotted the vote, saying it was undemocratic. Aziz, 55, worked 30 years as a Citibank executive before becoming finance minister when Musharraf took power in a bloodless military coup in 1999. Suave, articulate, and media-savvy, Aziz is credited ...\n",
      "ID: 004228, Score: 0.9998, Text: Shaukat Aziz Wins By-Election, now Prime Minister-Designate LAHORE, Pakistan: August 19, 2004 (PNS) - Current Federal Finance Minister, Mr. Shaukat Aziz won by-election on his way to officially becoming Prime Minister of Pakistan. As a member of ruling Muslim League and finance minister he is credited with ...\n",
      "ID: 010831, Score: 0.9998, Text: Intel Gives Centrino Chip Line a Wireless Upgrade  SAN FRANCISCO (Reuters) - Intel Corp. &lt;A HREF=\"http://www.reuters.co.uk/financeQuoteLookup.jhtml?ticker=INTC.O qtype=sym infotype=info qcat=news\"&gt;INTC.O&lt;/A&gt; on Thursday  said it has upgraded the wireless networking capabilities of  its Centrino line of notebook computer chips to allow broader  network access with improved security.\n",
      "ID: 004872, Score: 0.9997, Text: Pakistan prime minister-designate declared official victor in by-elections ISLAMABAD, Pakistan (AP) - Pakistan #39;s election commission on Friday officially declared Finance Minister Shaukat Aziz victor in two by-elections, paving the way for him to become the next prime minister. \n",
      "ID: 004788, Score: 0.9997, Text: Pakistan #39;s PM-designate declared winner in two by-elections ISLAMABAD : Pakistan formally declared Finance Minister Shaukat Aziz the winner of two by-elections held to clear his path to the prime ministership. \n"
     ]
    }
   ],
   "source": [
    "recommend_and_show(0, umap_recommender, sample_weight=1, k=10)"
   ]
  },
  {
   "cell_type": "code",
   "execution_count": 31,
   "id": "87303b9c",
   "metadata": {},
   "outputs": [
    {
     "name": "stdout",
     "output_type": "stream",
     "text": [
      "Found 500 recommendations for 5 history items\n",
      "ID: 014724, Score: 0.9999, Text: Intel updates Centrino wireless chips, software Intel Corp. unveiled an update to its wireless networking technology Thursday, adding simpler software, improved security and support for a more robust, less interference-prone radio standard.\n",
      "ID: 012513, Score: 0.9991, Text: Musharraf ally elected as new Pakistan PM ISLAMABAD - Pakistan #39;s Parliament elected former Finance Minister Shaukat Aziz as Prime Minister yesterday amid an opposition boycott of the vote.\n",
      "ID: 030486, Score: 0.9977, Text: Afghans Arrest Three for Rocket Attack on Karzai Three men have been arrested for trying to kill Afghan President Hamid Karzai by firing a rocket at his helicopter during his first election campaign trip outside the capital, officials said on Friday.\n",
      "ID: 009553, Score: 0.9973, Text: Intel Eyes Tri-Mode Wi-Fi (PC World) PC World - Upcoming chip set will support 802.11a, b, and g networks.\n",
      "ID: 004497, Score: 0.9969, Text: Minister #39;s poll triumph puts him in line to be Pakistan #39;s next PM Three weeks after surviving an assassination attempt, Pakistan #39;s finance minister, Shaukat Aziz, confirmed his place as the country #39;s next prime minister, after coasting to victory in a byelection. \n",
      "ID: 035858, Score: 0.9946, Text: UPDATE 5-Morgan Stanley profit tumbles, shares drop US investment bank Morgan Stanley (MWD.N: Quote, Profile, Research) on Wednesday said quarterly profit dropped by a third on sharply lower bond trading revenue \n",
      "ID: 036158, Score: 0.9936, Text: Morgan Stanley cracks in 3Q Investment bank misses estimates as trading income plunges, other units fail to pick up the slack. By Rob Cox, Breakingviews. LONDON (Breakingviews) - Morgan Stanley is the first to slip.\n",
      "ID: 036074, Score: 0.9935, Text: Morgan Stanley, Bear Stearns Profits Fall  NEW YORK (Reuters) - Morgan Stanley and Bear Stearns  Companies posted a drop in quarterly profits on Wednesday,  surprising some investors one day after two other big  investment banks reported a rise in earnings.\n",
      "ID: 041548, Score: 0.9929, Text: Intel drops plans for Wi-Fi access point in Grantsdale Intel no longer plans to turn its latest batch of chipsets into wireless access points, citing a lack of interest from PC vendors and the proliferation of standalone access points, a company spokesman said Friday.\n",
      "ID: 037869, Score: 0.9923, Text: Morgan Stanley, Bear Stearns profits stumble Morgan Stanley and Bear Stearns Companies posted a drop in quarterly profits on Wednesday, surprising some investors one day after two \n"
     ]
    }
   ],
   "source": [
    "recommend_and_show(0, umap_recommender, sample_weight=10, k=10)"
   ]
  },
  {
   "cell_type": "code",
   "execution_count": 32,
   "id": "54911d4b",
   "metadata": {},
   "outputs": [
    {
     "name": "stdout",
     "output_type": "stream",
     "text": [
      "Found 200 recommendations for 2 history items\n",
      "ID: 030755, Score: 0.9995, Text: They #39;re robots? Those beasts! NAHANT, Mass.--Joseph Ayers was crouched over a laptop in a cool cinder block shed barely big enough to house a ride-on lawn mower, watching a boxy-shelled black lobster through a rectangular acrylic window.\n",
      "ID: 006345, Score: 0.9994, Text: Smart little suckers A new generation of robotic vacuums is ready to do battle with dirt, dust and dog hair with more cleaning power and cunning than their ancestors could muster.\n",
      "ID: 087818, Score: 0.9993, Text: Robot Is Pivotal Member of the Force The youngest, smallest member of the Virginia State Police bomb squad can fearlessly pick up an unidentified bomb, walk into a tense hostage situation and hand a cell phone to a gunman. And he requires no food, water, insurance benefits or sleep.\n",
      "ID: 100710, Score: 0.9993, Text: Video Game Report Card Helps Parents Goal is to assist moms and dads in buying family-friendly entertainment for their kids. Video games are a popular item on the Christmas wish lists of kids, which \n",
      "ID: 067924, Score: 0.9992, Text: Robo-vacuum wins wall-to-wall praise at confab Robot fans cheer news that the \"Roomba\" has sucked up its 1 millionth buyer--a 'bot breakthrough,' they say.\n",
      "ID: 004022, Score: 0.9992, Text: Review: Robovacs No Match for Vacuum A new generation of robotic vacuums is ready to do battle with dirt, dust and dog hair with more cleaning power and cunning than their ancestors could muster. Faced with the usual obstacles - furniture, stairs, low-hanging bed skirts and stray socks - they intelligently and acrobatically extricate themselves from most tight spots and largely avoid getting stuck or sucking in what they shouldn't.\n",
      "ID: 070954, Score: 0.9992, Text: iRobot readies for war--and the household Whether mopping up a battlefield or living room floor, the robot maker is working on vehicle to get the job done.\\\n",
      "ID: 000200, Score: 0.9992, Text: Video games 'good for children' Computer games can promote problem-solving and team-building in children, say games industry experts.\n",
      "ID: 072029, Score: 0.9991, Text: Robots Compete for Your Interest Robonexus Expo, which wrapped up over the weekend in Santa Clara, California, offered the requisite look at commercial robotics, robot parts and accessories, small-market redistributors, and research and experimental robots, but the overall theme and most \n",
      "ID: 076572, Score: 0.9990, Text: How computer games grew up THEY USED TO be for kids. Space Invaders, Pong, Doom, some of them were shoot-em-up fun, others were just, well, fun. But computer games have changed.\n"
     ]
    },
    {
     "name": "stderr",
     "output_type": "stream",
     "text": [
      "/Users/mohammedalageel/projects/text-recommendation/.venv/lib/python3.11/site-packages/torch/nn/modules/module.py:1762: FutureWarning: `encoder_attention_mask` is deprecated and will be removed in version 4.55.0 for `BertSdpaSelfAttention.forward`.\n",
      "  return forward_call(*args, **kwargs)\n"
     ]
    }
   ],
   "source": [
    "old_function = umap_recommender.get_user_embeddings\n",
    "umap_recommender.get_user_embeddings = lambda _: umap_model.transform(embedder.encode([\"robots\", \"gaming\"]))\n",
    "\n",
    "recommend_and_show(0, umap_recommender, sample_weight=1, k=10)\n",
    "\n",
    "umap_recommender.get_user_embeddings = old_function"
   ]
  },
  {
   "cell_type": "code",
   "execution_count": null,
   "id": "fe71f0dc",
   "metadata": {},
   "outputs": [],
   "source": []
  }
 ],
 "metadata": {
  "kernelspec": {
   "display_name": ".venv",
   "language": "python",
   "name": "python3"
  },
  "language_info": {
   "codemirror_mode": {
    "name": "ipython",
    "version": 3
   },
   "file_extension": ".py",
   "mimetype": "text/x-python",
   "name": "python",
   "nbconvert_exporter": "python",
   "pygments_lexer": "ipython3",
   "version": "3.11.13"
  }
 },
 "nbformat": 4,
 "nbformat_minor": 5
}
